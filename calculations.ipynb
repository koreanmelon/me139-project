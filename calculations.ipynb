{
 "cells": [
  {
   "cell_type": "markdown",
   "metadata": {},
   "source": [
    "# ME 139 Project Calculations\n",
    "\n",
    "This notebook acts like a sandbox to try out various snippets of code/calculations used for the project.\n"
   ]
  },
  {
   "cell_type": "code",
   "execution_count": 1,
   "metadata": {},
   "outputs": [],
   "source": [
    "from typing import Callable\n",
    "from dataclasses import dataclass\n",
    "\n",
    "import numpy as np\n",
    "import numpy.typing as npt"
   ]
  },
  {
   "cell_type": "markdown",
   "metadata": {},
   "source": [
    "Here, we'll define a few functions to help us with creating the appropriate matrices.\n"
   ]
  },
  {
   "cell_type": "code",
   "execution_count": 2,
   "metadata": {},
   "outputs": [],
   "source": [
    "def T(alpha_n: float, b_n: float, theta_n: float, d_n: float) -> npt.NDArray[np.float64]:\n",
    "    \"\"\"\n",
    "    Creates a transformation matrix for given values of alpha, b, theta, and d.\n",
    "    \"\"\"\n",
    "    return np.array([\n",
    "        [np.cos(alpha_n), -np.sin(alpha_n), 0, b_n],\n",
    "        [np.cos(alpha_n) * np.sin(theta_n), np.cos(alpha_n) *\n",
    "         np.cos(theta_n), -np.sin(alpha_n), -d_n * np.sin(alpha_n)],\n",
    "        [np.sin(alpha_n) * np.sin(theta_n), np.sin(alpha_n) *\n",
    "         np.cos(theta_n), np.cos(alpha_n), d_n * np.cos(alpha_n)],\n",
    "        [0, 0, 0, 1]\n",
    "    ])\n"
   ]
  },
  {
   "cell_type": "markdown",
   "metadata": {},
   "source": [
    "Below, we'll define some global variables as well as the transformation matrices as functions of the joint angles.\n"
   ]
  },
  {
   "cell_type": "code",
   "execution_count": 3,
   "metadata": {},
   "outputs": [],
   "source": [
    "# Constants\n",
    "l_f = 0.45 # femur length\n",
    "l_t = 0.45 # tibia length\n",
    "\n",
    "# Transformation matrices\n",
    "T_01 = lambda measured_theta_1: T(np.pi / 2, 0, measured_theta_1, 0)\n",
    "T_12 = lambda measured_theta_2: T(0, l_t, measured_theta_2, 0)\n",
    "T_23 = lambda measured_theta_3: T(0, l_f, -measured_theta_3, 0)\n",
    "\n",
    "T_02 = lambda measured_theta_1, measured_theta_2: T_01(measured_theta_1) @ T_12(measured_theta_2)\n",
    "T_03 = lambda measured_theta_1, measured_theta_2, measured_theta_3: T_01(measured_theta_1) @ T_12(measured_theta_2) @ T_23(measured_theta_3)\n",
    "\n",
    "T_13 = lambda measured_theta_2, measured_theta_3: T_12(measured_theta_2) @ T_23(measured_theta_3)\n",
    "\n",
    "# Rotation matrices (extracted from transformation matrices)\n",
    "R_01 = lambda measured_theta_1: T_01(measured_theta_1)[:3, :3]\n",
    "R_02 = lambda measured_theta_1, measured_theta_2: T_02(measured_theta_1, measured_theta_2)[:3, :3]\n",
    "\n",
    "# Displacement vectors (extracted from transformation matrices)\n",
    "D_13 = lambda measured_theta_2, measured_theta_3: T_13(measured_theta_2, measured_theta_3)[:3, 3]\n",
    "D_23 = lambda measured_theta_3: T_23(measured_theta_3)[:3, 3]"
   ]
  },
  {
   "cell_type": "markdown",
   "metadata": {},
   "source": [
    "Now, we can define some Jacobians for the end-effector."
   ]
  },
  {
   "cell_type": "code",
   "execution_count": 4,
   "metadata": {},
   "outputs": [],
   "source": [
    "J_v1 = lambda measured_theta_1, measured_theta_2, measured_theta_3: np.zeros(1)\n",
    "\n",
    "J_v2 = lambda measured_theta_1, measured_theta_2, measured_theta_3: np.array([\n",
    "    [np.cross(R_01(measured_theta_1)[:,2], R_01(measured_theta_1) @ D_13(measured_theta_2, measured_theta_3))]\n",
    "])\n",
    "\n",
    "J_v3 = lambda measured_theta_1, measured_theta_2, measured_theta_3: np.array([\n",
    "    [\n",
    "        np.cross(R_01(measured_theta_1)[:,2], R_01(measured_theta_1) @ D_13(measured_theta_2, measured_theta_3)),\n",
    "        np.cross(R_02(measured_theta_1, measured_theta_2)[:,2], R_02(measured_theta_1, measured_theta_2) @ D_23(measured_theta_3))\n",
    "    ]\n",
    "])\n",
    "\n",
    "J_omega1 = lambda measured_theta_1, measured_theta_2, measured_theta_3: np.zeros(1)\n",
    "\n",
    "J_omega2 = lambda measured_theta_1, measured_theta_2, measured_theta_3: np.array([\n",
    "    [R_01(measured_theta_1)[:,2]]\n",
    "])\n",
    "\n",
    "J_omega3 = lambda measured_theta_1, measured_theta_2, measured_theta_3: np.array([\n",
    "    [R_01(measured_theta_1)[:,2], R_02(measured_theta_1, measured_theta_2)[:,2]]\n",
    "])"
   ]
  },
  {
   "cell_type": "markdown",
   "metadata": {},
   "source": [
    "We can now define the inertia matrix for the entire system."
   ]
  },
  {
   "cell_type": "code",
   "execution_count": 6,
   "metadata": {},
   "outputs": [],
   "source": [
    "@dataclass\n",
    "class MParams:\n",
    "    measured_theta_1: float\n",
    "    measured_theta_2: float\n",
    "    measured_theta_3: float\n",
    "    m_1: float\n",
    "    m_2: float\n",
    "    m_3: float\n",
    "    I_c1: npt.NDArray[np.float64]\n",
    "    I_c2: npt.NDArray[np.float64]\n",
    "    I_c3: npt.NDArray[np.float64]\n",
    "\n",
    "def M(*params: MParams):\n",
    "    measured_theta_1, measured_theta_2, measured_theta_3, m_1, m_2, m_3, I_c1, I_c2, I_c3 = params\n",
    "    \n",
    "    term_2 = m_2 * J_v2(measured_theta_1, measured_theta_2, measured_theta_3).T @ J_v2(measured_theta_1, measured_theta_2, measured_theta_3) + \\\n",
    "        J_omega2(measured_theta_1, measured_theta_2, measured_theta_3).T @ I_c2 @ J_omega2(measured_theta_1, measured_theta_2, measured_theta_3)\n",
    "    \n",
    "    term_3 = m_3 * J_v3(measured_theta_1, measured_theta_2, measured_theta_3).T @ J_v3(measured_theta_1, measured_theta_2, measured_theta_3) + \\\n",
    "        J_omega3(measured_theta_1, measured_theta_2, measured_theta_3).T @ I_c3 @ J_omega3(measured_theta_1, measured_theta_2, measured_theta_3)\n",
    "    \n",
    "    return term_2 + term_3\n"
   ]
  },
  {
   "cell_type": "code",
   "execution_count": null,
   "metadata": {},
   "outputs": [],
   "source": []
  }
 ],
 "metadata": {
  "kernelspec": {
   "display_name": "Python 3.9.13 ('base')",
   "language": "python",
   "name": "python3"
  },
  "language_info": {
   "codemirror_mode": {
    "name": "ipython",
    "version": 3
   },
   "file_extension": ".py",
   "mimetype": "text/x-python",
   "name": "python",
   "nbconvert_exporter": "python",
   "pygments_lexer": "ipython3",
   "version": "3.9.13"
  },
  "orig_nbformat": 4,
  "vscode": {
   "interpreter": {
    "hash": "1610edeada1e3348d9ac1a2d50e87a2d601b27086aebc822be960297102aa47a"
   }
  }
 },
 "nbformat": 4,
 "nbformat_minor": 2
}
