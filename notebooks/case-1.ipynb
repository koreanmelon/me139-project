{
  "cells": [
    {
      "cell_type": "markdown",
      "metadata": {},
      "source": [
        "## Case 1: Underactuated Inverted Pendulum with Reaction Wheel\n"
      ]
    },
    {
      "cell_type": "code",
      "execution_count": null,
      "metadata": {},
      "outputs": [],
      "source": [
        "import sympy as sp\n",
        "from sympy.physics.mechanics import dynamicsymbols, init_vprinting, vlatex\n",
        "from IPython.display import display, Math\n",
        "\n",
        "init_vprinting()\n"
      ]
    },
    {
      "cell_type": "markdown",
      "metadata": {},
      "source": [
        "We'll simplify the problem to one involving a reaction wheel at the top of an inverted pendulum and define our system as follows:\n",
        "\n",
        "<img src=\"../assets/diagrams/case-1.jpg\" width=750/>\n"
      ]
    },
    {
      "cell_type": "markdown",
      "metadata": {},
      "source": [
        "Next, we'll define the following variables to describe each joint and link in the system.\n"
      ]
    },
    {
      "cell_type": "code",
      "execution_count": null,
      "metadata": {},
      "outputs": [],
      "source": [
        "# Constants\n",
        "g, t = sp.symbols('g,t')\n",
        "\n",
        "# Link 1\n",
        "alpha_1 = 0\n",
        "b_1 = 0\n",
        "theta_1 = dynamicsymbols(\"theta_1\")\n",
        "theta_1d = sp.diff(theta_1, t)\n",
        "theta_1dd = sp.diff(theta_1d, t)\n",
        "d_1 = 0\n",
        "\n",
        "# l_1, l_c1 = sp.symbols(\"l_1 l_c1\")\n",
        "l_1 = 1.0\n",
        "l_c1 = 0.5\n",
        "# m_1 = sp.symbols(\"m_1\")\n",
        "m_1 = 1\n",
        "I_c1 = sp.Rational(1, 12) * m_1 * l_1**2\n",
        "# I_c1 = sp.Symbol(\"I_c1\")\n",
        "# I_c1 = 0\n",
        "\n",
        "# Link 2\n",
        "alpha_2 = 0\n",
        "b_2 = l_1\n",
        "theta_2 = dynamicsymbols(\"theta_2\")\n",
        "theta_2d = sp.diff(theta_2, t)\n",
        "theta_2dd = sp.diff(theta_2d, t)\n",
        "d_2 = 0\n",
        "\n",
        "# r = sp.Symbol(\"r\")\n",
        "r = 0.5\n",
        "l_c2 = 0\n",
        "# m_2 = sp.Symbol(\"m_2\")\n",
        "m_2 = 1\n",
        "I_c2 = sp.Rational(1, 2) * m_2 * r**2\n",
        "# I_c2 = sp.Symbol(\"I_c2\")\n"
      ]
    },
    {
      "cell_type": "markdown",
      "metadata": {},
      "source": [
        "We can then calculate the transformation matrices for the different frames to the base frame.\n"
      ]
    },
    {
      "cell_type": "code",
      "execution_count": null,
      "metadata": {},
      "outputs": [],
      "source": [
        "T_01 = sp.simplify(sp.Matrix([\n",
        "    [sp.cos(theta_1), -sp.sin(theta_1), 0, b_1],  # type: ignore\n",
        "    [sp.cos(alpha_1) * sp.sin(theta_1), sp.cos(alpha_1) * sp.cos(theta_1), -sp.sin(alpha_1), -d_1 * sp.sin(alpha_1)],  # type: ignore\n",
        "    [sp.sin(alpha_1) * sp.sin(theta_1), sp.sin(alpha_1) * sp.cos(theta_1), sp.cos(alpha_1), d_1 * sp.cos(alpha_1)],  # type: ignore\n",
        "    [0, 0, 0, 1]\n",
        "]))\n",
        "\n",
        "T_12 = sp.simplify(sp.Matrix([\n",
        "    [sp.cos(theta_2), -sp.sin(theta_2), 0, b_2],  # type: ignore\n",
        "    [sp.cos(alpha_2) * sp.sin(theta_2), sp.cos(alpha_2) * sp.cos(theta_2), -sp.sin(alpha_2), -d_2 * sp.sin(alpha_2)],  # type: ignore\n",
        "    [sp.sin(alpha_2) * sp.sin(theta_2), sp.sin(alpha_2) * sp.cos(theta_2), sp.cos(alpha_2), d_2 * sp.cos(alpha_2)],  # type: ignore\n",
        "    [0, 0, 0, 1]\n",
        "]))\n",
        "\n",
        "T_02 = sp.simplify(T_01 * T_12)\n",
        "\n",
        "R_01 = T_01[:3, :3]\n",
        "R_12 = T_12[:3, :3]\n",
        "R_02 = T_02[:3, :3]\n",
        "\n",
        "D_01 = T_01[:3, 3]\n",
        "D_12 = T_12[:3, 3]\n",
        "\n",
        "D_1c1 = sp.Matrix([l_c1, 0, 0]).reshape(3, 1)\n",
        "\n",
        "D_1c2 = D_12\n",
        "\n",
        "D_2c2 = sp.Matrix([l_c2, 0, 0]).reshape(3, 1)\n"
      ]
    },
    {
      "cell_type": "code",
      "execution_count": null,
      "metadata": {},
      "outputs": [],
      "source": [
        "display(Math(f\"T_0^1 = {vlatex(T_01)}\"))\n",
        "display(Math(f\"T_1^2 = {vlatex(T_12)}\"))\n",
        "display(Math(f\"T_0^2 = {vlatex(T_02)}\"))\n",
        "\n",
        "display(Math(f\"R_0^1 = {vlatex(R_01)}\"))\n",
        "display(Math(f\"R_1^2 = {vlatex(R_12)}\"))\n",
        "display(Math(f\"R_0^2 = {vlatex(R_02)}\"))\n",
        "\n",
        "display(Math(f\"D_1^{{c1}} = {vlatex(D_1c1)}\"))\n",
        "display(Math(f\"D_1^{{c2}} = {vlatex(D_1c2)}\"))\n",
        "display(Math(f\"D_2^{{c2}} = {vlatex(D_2c2)}\"))\n"
      ]
    },
    {
      "cell_type": "markdown",
      "metadata": {},
      "source": [
        "Now, we can calculate the Jacobians for the system. Note that we're mainly concerned about the center of mass for every link, so the D vector refers to the distances to the center of mass of each link.\n"
      ]
    },
    {
      "cell_type": "code",
      "execution_count": null,
      "metadata": {},
      "outputs": [],
      "source": [
        "J_v1 = sp.simplify(sp.Matrix.hstack(\n",
        "    R_01[:, 2].cross(R_01 * D_1c1),\n",
        "    sp.zeros(3, 1)\n",
        "))\n",
        "\n",
        "J_v2 = sp.simplify(sp.Matrix.hstack(\n",
        "    R_01[:, 2].cross(R_01 * D_1c2),\n",
        "    R_02[:, 2].cross(R_02 * D_2c2)\n",
        "))\n",
        "\n",
        "J_omega1 = sp.simplify(sp.Matrix.hstack(\n",
        "    R_01[:, 2],\n",
        "    sp.zeros(3, 1)\n",
        "))\n",
        "\n",
        "J_omega2 = sp.simplify(sp.Matrix.hstack(\n",
        "    R_01[:, 2],\n",
        "    R_02[:, 2]\n",
        "))\n"
      ]
    },
    {
      "cell_type": "code",
      "execution_count": null,
      "metadata": {},
      "outputs": [],
      "source": [
        "display(Math(f\"J_{{v1}} = {vlatex(J_v1)}\"))\n",
        "display(Math(f\"J_{{v2}} = {vlatex(J_v2)}\"))\n",
        "\n",
        "display(Math(f\"J_{{v1}}^T J_{{v1}} = {vlatex(J_v1.T * J_v1)}\"))\n",
        "\n",
        "display(Math(f\"J_{{\\\\omega1}} = {vlatex(J_omega1)}\"))\n",
        "display(Math(f\"J_{{\\\\omega2}} = {vlatex(J_omega2)}\"))"
      ]
    },
    {
      "cell_type": "markdown",
      "metadata": {},
      "source": [
        "Using the moment of inertias for the system and the Jacobians, we'll calculate the required torque vector.\n"
      ]
    },
    {
      "cell_type": "code",
      "execution_count": null,
      "metadata": {},
      "outputs": [],
      "source": [
        "M = sp.simplify(\n",
        "    (m_1 * J_v1.T * J_v1 + J_omega1.T * sp.diag(I_c1, I_c1, I_c1) * J_omega1) +\n",
        "    (m_2 * J_v2.T * J_v2 + J_omega2.T * sp.diag(I_c2, I_c2, I_c2) * J_omega2)\n",
        ")\n",
        "M_d = sp.simplify(M.diff(t))\n",
        "\n",
        "Q = sp.Matrix([theta_1, theta_2]).reshape(2, 1)\n",
        "Q_d = Q.diff(t)\n",
        "Q_dd = Q_d.diff(t)\n",
        "\n",
        "V = sp.simplify((M_d * Q_d) - sp.Rational(1, 2) * sp.Matrix.vstack(\n",
        "    Q_d.T * M.diff(theta_1) * Q_d,\n",
        "    Q_d.T * M.diff(theta_2) * Q_d\n",
        "))\n",
        "\n",
        "P = sp.simplify((m_1 * l_c1 + m_2 * l_1) * g * sp.sin(theta_1))\n",
        "\n",
        "G = sp.simplify(sp.Matrix([\n",
        "    P.diff(theta_1),\n",
        "    P.diff(theta_2)\n",
        "]).reshape(2, 1))\n",
        "\n",
        "T = sp.simplify(M * Q_dd + V + G)\n"
      ]
    },
    {
      "cell_type": "code",
      "execution_count": null,
      "metadata": {},
      "outputs": [],
      "source": [
        "display(Math(\"M \\\\ddot{Q} + V + G = T\"))\n",
        "\n",
        "display(Math(f\"M = {vlatex(M)}\"))\n",
        "display(Math(f\"\\\\dot{{M}} = {vlatex(M_d)}\"))\n",
        "\n",
        "display(Math(f\"Q = {vlatex(Q)}\"))\n",
        "display(Math(f\"\\\\dot{{Q}} = {vlatex(Q_d)}\"))\n",
        "display(Math(f\"\\\\ddot{{Q}} = {vlatex(Q_dd)}\"))\n",
        "\n",
        "display(Math(f\"V = {vlatex(V)}\"))\n",
        "\n",
        "display(Math(f\"G = {vlatex(G)}\"))\n",
        "\n",
        "display(Math(f\"T = {vlatex(T)}\"))\n",
        "\n",
        "# print(sp.latex(T))\n"
      ]
    },
    {
      "cell_type": "markdown",
      "metadata": {},
      "source": [
        "# Forward Dynamics"
      ]
    },
    {
      "cell_type": "code",
      "execution_count": null,
      "metadata": {},
      "outputs": [],
      "source": [
        "tau = sp.symbols('tau')\n",
        "system = [sp.Eq(T[0], 0), sp.Eq(T[1], tau)]\n",
        "sol = sp.solve(system, [theta_1dd, theta_2dd])\n"
      ]
    },
    {
      "cell_type": "code",
      "execution_count": null,
      "metadata": {},
      "outputs": [],
      "source": [
        "display(Math(f\"\\\\ddot{{\\\\theta_1}} = {vlatex(sp.simplify(sol[theta_1dd]))}\"))\n",
        "display(Math(f\"\\\\ddot{{\\\\theta_2}} = {vlatex(sp.simplify(sol[theta_2dd]))}\"))\n",
        "\n",
        "# f = sp.lambdify((theta_1, theta_1d, theta_2, theta_2d, tau), sol[theta_2dd])\n",
        "\n",
        "print(sp.simplify(sol[theta_1dd]))\n",
        "print(sp.simplify(sol[theta_2dd]))\n"
      ]
    },
    {
      "cell_type": "code",
      "execution_count": null,
      "metadata": {},
      "outputs": [],
      "source": [
        "v = sp.solve(sp.Eq(0, sol[theta_1dd]), tau)\n",
        "\n",
        "display(v)\n",
        "\n",
        "print(v)"
      ]
    }
  ],
  "metadata": {
    "kernelspec": {
      "display_name": "Python 3.10.6 ('me139')",
      "language": "python",
      "name": "python3"
    },
    "language_info": {
      "codemirror_mode": {
        "name": "ipython",
        "version": 3
      },
      "file_extension": ".py",
      "mimetype": "text/x-python",
      "name": "python",
      "nbconvert_exporter": "python",
      "pygments_lexer": "ipython3",
      "version": "3.10.6"
    },
    "orig_nbformat": 4,
    "vscode": {
      "interpreter": {
        "hash": "be19be14bdb63550c1fd9395eaedf3f6df4ec3b2db3166a51b0dc21d884ef482"
      }
    }
  },
  "nbformat": 4,
  "nbformat_minor": 2
}
