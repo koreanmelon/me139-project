{
  "cells": [
    {
      "cell_type": "markdown",
      "metadata": {},
      "source": [
        "## Case 2: Underactuated Inverted Double Pendulum with Two Links\n"
      ]
    },
    {
      "cell_type": "code",
      "execution_count": 3,
      "metadata": {},
      "outputs": [],
      "source": [
        "import sympy as sp\n",
        "from sympy.physics.mechanics import dynamicsymbols\n",
        "from IPython.display import display, Math\n"
      ]
    },
    {
      "cell_type": "markdown",
      "metadata": {},
      "source": [
        "Alternatively, we can simplify the problem to one involving a two links with only one actuated joint in the middle. We'll define our system as follows:\n",
        "\n",
        "<img src=\"../../assets/diagrams/case-2.jpg\" width=750/>\n"
      ]
    },
    {
      "cell_type": "markdown",
      "metadata": {},
      "source": [
        "Once again, we'll define some constants and variables to represent our system's configuration.\n"
      ]
    },
    {
      "cell_type": "code",
      "execution_count": 5,
      "metadata": {},
      "outputs": [],
      "source": [
        "# Constants\n",
        "g, t = sp.symbols('g t')\n",
        "\n",
        "# Link 1\n",
        "alpha_1 = 0\n",
        "b_1 = 0\n",
        "theta_1 = dynamicsymbols(\"theta_1\")\n",
        "theta_1d = dynamicsymbols(\"\\\\dot{\\\\theta_1}\")\n",
        "theta_1dd = dynamicsymbols(\"\\\\ddot{\\\\theta_1}\")\n",
        "d_1 = 0\n",
        "\n",
        "l_1, l_c1 = sp.symbols(\"l_1 l_c1\")\n",
        "\n",
        "m_1 = sp.symbols(\"m_1\")\n",
        "I_c1 = sp.Rational(1, 12) * m_1 * l_1 ** 2\n",
        "\n",
        "# Link 2\n",
        "alpha_2 = 0\n",
        "b_2 = sp.symbols(\"l\")\n",
        "theta_2 = dynamicsymbols(\"theta_2\")\n",
        "theta_2d = dynamicsymbols(\"\\\\dot{\\\\theta_2}\")\n",
        "theta_2dd = dynamicsymbols(\"\\\\ddot{\\\\theta_2}\")\n",
        "d_2 = 0\n",
        "\n",
        "l_2, l_c2 = sp.symbols(\"r_2, l_c2\")\n",
        "m_2 = sp.symbols(\"m_w\")\n",
        "I_c2 = sp.Rational(1, 12) * m_2 * l_2 ** 2\n"
      ]
    },
    {
      "cell_type": "markdown",
      "metadata": {},
      "source": []
    }
  ],
  "metadata": {
    "kernelspec": {
      "display_name": "Python 3.10.6 ('me139')",
      "language": "python",
      "name": "python3"
    },
    "language_info": {
      "codemirror_mode": {
        "name": "ipython",
        "version": 3
      },
      "file_extension": ".py",
      "mimetype": "text/x-python",
      "name": "python",
      "nbconvert_exporter": "python",
      "pygments_lexer": "ipython3",
      "version": "3.10.6"
    },
    "orig_nbformat": 4,
    "vscode": {
      "interpreter": {
        "hash": "be19be14bdb63550c1fd9395eaedf3f6df4ec3b2db3166a51b0dc21d884ef482"
      }
    }
  },
  "nbformat": 4,
  "nbformat_minor": 2
}
