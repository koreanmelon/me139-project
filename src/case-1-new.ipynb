{
 "cells": [
  {
   "cell_type": "code",
   "execution_count": null,
   "metadata": {},
   "outputs": [],
   "source": [
    "import sympy as sp\n",
    "from sympy.physics.mechanics import dynamicsymbols, init_vprinting\n",
    "from IPython.display import display, Math\n",
    "import matplotlib.pyplot as plt\n",
    "\n",
    "init_vprinting()"
   ]
  },
  {
   "cell_type": "markdown",
   "metadata": {},
   "source": [
    "# Case 1\n",
    "Single link + reaction wheel"
   ]
  },
  {
   "cell_type": "code",
   "execution_count": null,
   "metadata": {},
   "outputs": [],
   "source": [
    "# Environment\n",
    "g, t = sp.symbols('g,t')\n",
    "\n",
    "# Thetas\n",
    "theta_1, theta_2 = dynamicsymbols(\"theta_1,theta_2\")\n",
    "theta_1d = theta_1.diff(t)\n",
    "theta_1dd = theta_1d.diff(t)\n",
    "theta_2d = theta_2.diff(t)\n",
    "theta_2dd = theta_2d.diff(t)\n",
    "\n",
    "# Masses\n",
    "m1, m2 = sp.symbols('m1,m2')\n",
    "\n",
    "# Lengths\n",
    "l_c1 = sp.symbols(\"l_c1\")\n",
    "l_1 = sp.symbols(\"l1\")\n",
    "r = sp.symbols(\"r\")"
   ]
  },
  {
   "cell_type": "code",
   "execution_count": null,
   "metadata": {},
   "outputs": [],
   "source": [
    "T =  sp.Rational(1,2) * (sp.Rational(1, 3)*m1*l_1**2*theta_1d**2 + m2*l_1**2*theta_1d**2 + m2*r**2*(theta_1d + theta_2d)**2)\n",
    "V = (m1*l_c1 + m2*l_1)*g*sp.sin(theta_1)\n",
    "L = T - V\n",
    "display(L)"
   ]
  },
  {
   "cell_type": "code",
   "execution_count": null,
   "metadata": {},
   "outputs": [],
   "source": [
    "tau2 = sp.symbols(\"tau2\")\n",
    "\n",
    "eq1 = sp.simplify(sp.Equality(L.diff(theta_1d).diff(t) - L.diff(theta_1), 0))\n",
    "eq2 = sp.simplify(sp.Equality(L.diff(theta_2d).diff(t) - L.diff(theta_2), tau2))\n",
    "\n",
    "display(eq1)\n",
    "display(eq2)"
   ]
  },
  {
   "cell_type": "code",
   "execution_count": null,
   "metadata": {},
   "outputs": [],
   "source": [
    "sp.solve([eq1, eq2], [theta_1dd, theta_2dd])"
   ]
  },
  {
   "cell_type": "code",
   "execution_count": null,
   "metadata": {},
   "outputs": [],
   "source": [
    "theta_1dd_sol = sp.solve(eq1, theta_1dd)\n",
    "display(theta_1dd_sol[0])"
   ]
  },
  {
   "cell_type": "code",
   "execution_count": null,
   "metadata": {},
   "outputs": [],
   "source": [
    "sp.solve(eq2.subs(theta_1dd, theta_1dd_sol[0]), tau2)"
   ]
  }
 ],
 "metadata": {
  "kernelspec": {
   "display_name": "Python 3.10.4 ('me139')",
   "language": "python",
   "name": "python3"
  },
  "language_info": {
   "codemirror_mode": {
    "name": "ipython",
    "version": 3
   },
   "file_extension": ".py",
   "mimetype": "text/x-python",
   "name": "python",
   "nbconvert_exporter": "python",
   "pygments_lexer": "ipython3",
   "version": "3.10.4"
  },
  "orig_nbformat": 4,
  "vscode": {
   "interpreter": {
    "hash": "b0202123a5b8a26bebd5cbe4ca3f3cda28476a386251123ac89c9cacd5b2b628"
   }
  }
 },
 "nbformat": 4,
 "nbformat_minor": 2
}
