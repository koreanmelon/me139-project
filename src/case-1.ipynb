{
 "cells": [
  {
   "cell_type": "markdown",
   "metadata": {},
   "source": [
    "## Case 1: Underactuated Inverted Pendulum with Reaction Wheel\n"
   ]
  },
  {
   "cell_type": "code",
   "execution_count": 109,
   "metadata": {},
   "outputs": [],
   "source": [
    "import sympy as sp\n",
    "from sympy.physics.mechanics import dynamicsymbols, init_vprinting\n",
    "from IPython.display import display, Math\n",
    "import matplotlib.pyplot as plt\n",
    "\n",
    "init_vprinting()"
   ]
  },
  {
   "cell_type": "markdown",
   "metadata": {},
   "source": [
    "We'll simplify the problem to one involving a reaction wheel at the top of an inverted pendulum and define our system as follows:\n",
    "\n",
    "<img src=\"../assets/case-1.jpg\" width=750/>\n"
   ]
  },
  {
   "cell_type": "markdown",
   "metadata": {},
   "source": [
    "Next, we'll define the following variables to describe each joint and link in the system.\n"
   ]
  },
  {
   "cell_type": "code",
   "execution_count": 110,
   "metadata": {},
   "outputs": [],
   "source": [
    "# Constants\n",
    "g, t = sp.symbols('g,t')\n",
    "\n",
    "# Link 1\n",
    "alpha_1 = 0\n",
    "b_1 = 0\n",
    "theta_1 = dynamicsymbols(\"theta_1\")\n",
    "theta_1d = sp.diff(theta_1, t)\n",
    "theta_1dd = sp.diff(theta_1d, t)\n",
    "d_1 = 0\n",
    "\n",
    "l_1, l_c1 = sp.symbols(\"l_1 l_c1\")\n",
    "\n",
    "m_1 = sp.symbols(\"m_1\")\n",
    "I_c1 = sp.Rational(1, 12) * m_1 * l_1 ** 2\n",
    "# I_c1 = 0\n",
    "\n",
    "# Link 2\n",
    "alpha_2 = 0\n",
    "b_2 = l_1\n",
    "theta_2 = dynamicsymbols(\"theta_2\")\n",
    "theta_2d = sp.diff(theta_2, t)\n",
    "theta_2dd = sp.diff(theta_2d, t)\n",
    "d_2 = 0\n",
    "\n",
    "r_w, l_c2 = sp.symbols(\"r_w, l_c2\")\n",
    "m_2 = sp.symbols(\"m_2\")\n",
    "I_c2 = sp.Rational(1, 2) * m_2 * r_w ** 2\n"
   ]
  },
  {
   "cell_type": "markdown",
   "metadata": {},
   "source": [
    "We can then calculate the transformation matrices for the different frames to the base frame.\n"
   ]
  },
  {
   "cell_type": "code",
   "execution_count": 111,
   "metadata": {},
   "outputs": [],
   "source": [
    "T_01 = sp.simplify(sp.Matrix([\n",
    "    [sp.cos(theta_1), -sp.sin(theta_1), 0, b_1],  # type: ignore\n",
    "    [sp.cos(alpha_1) * sp.sin(theta_1), sp.cos(alpha_1) * sp.cos(theta_1), -sp.sin(alpha_1), -d_1 * sp.sin(alpha_1)],  # type: ignore\n",
    "    [sp.sin(alpha_1) * sp.sin(theta_1), sp.sin(alpha_1) * sp.cos(theta_1), sp.cos(alpha_1), d_1 * sp.cos(alpha_1)],  # type: ignore\n",
    "    [0, 0, 0, 1]\n",
    "]))\n",
    "\n",
    "T_12 = sp.simplify(sp.Matrix([\n",
    "    [sp.cos(theta_2), -sp.sin(theta_2), 0, b_2],  # type: ignore\n",
    "    [sp.cos(alpha_2) * sp.sin(theta_2), sp.cos(alpha_2) * sp.cos(theta_2), -sp.sin(alpha_2), -d_2 * sp.sin(alpha_2)],  # type: ignore\n",
    "    [sp.sin(alpha_2) * sp.sin(theta_2), sp.sin(alpha_2) * sp.cos(theta_2), sp.cos(alpha_2), d_2 * sp.cos(alpha_2)],  # type: ignore\n",
    "    [0, 0, 0, 1]\n",
    "]))\n",
    "\n",
    "R_01 = T_01[:3, :3]\n",
    "R_12 = T_12[:3, :3]\n",
    "R_02 = R_01 @ R_12\n",
    "\n",
    "D_01 = T_01[:3, 3]\n",
    "D_12 = T_12[:3, 3]\n",
    "D_2p = sp.Matrix([1, 0, 0]).reshape(3, 1)\n",
    "\n",
    "D_1c1 = sp.Matrix([l_c1, 0, 0]).reshape(3, 1)\n",
    "\n",
    "D_1c2 = D_12\n",
    "D_2c2 = sp.Matrix([0, 0, 0]).reshape(3, 1)\n"
   ]
  },
  {
   "cell_type": "code",
   "execution_count": 112,
   "metadata": {},
   "outputs": [
    {
     "data": {
      "text/latex": [
       "$\\displaystyle T_0^1 = \\left[\\begin{matrix}\\cos{\\left(\\theta_{1}{\\left(t \\right)} \\right)} & - \\sin{\\left(\\theta_{1}{\\left(t \\right)} \\right)} & 0 & 0\\\\\\sin{\\left(\\theta_{1}{\\left(t \\right)} \\right)} & \\cos{\\left(\\theta_{1}{\\left(t \\right)} \\right)} & 0 & 0\\\\0 & 0 & 1 & 0\\\\0 & 0 & 0 & 1\\end{matrix}\\right]$"
      ],
      "text/plain": [
       "<IPython.core.display.Math object>"
      ]
     },
     "metadata": {},
     "output_type": "display_data"
    },
    {
     "data": {
      "text/latex": [
       "$\\displaystyle T_1^2 = \\left[\\begin{matrix}\\cos{\\left(\\theta_{2}{\\left(t \\right)} \\right)} & - \\sin{\\left(\\theta_{2}{\\left(t \\right)} \\right)} & 0 & l_{1}\\\\\\sin{\\left(\\theta_{2}{\\left(t \\right)} \\right)} & \\cos{\\left(\\theta_{2}{\\left(t \\right)} \\right)} & 0 & 0\\\\0 & 0 & 1 & 0\\\\0 & 0 & 0 & 1\\end{matrix}\\right]$"
      ],
      "text/plain": [
       "<IPython.core.display.Math object>"
      ]
     },
     "metadata": {},
     "output_type": "display_data"
    },
    {
     "data": {
      "text/latex": [
       "$\\displaystyle R_0^1 = \\left[\\begin{matrix}\\cos{\\left(\\theta_{1}{\\left(t \\right)} \\right)} & - \\sin{\\left(\\theta_{1}{\\left(t \\right)} \\right)} & 0\\\\\\sin{\\left(\\theta_{1}{\\left(t \\right)} \\right)} & \\cos{\\left(\\theta_{1}{\\left(t \\right)} \\right)} & 0\\\\0 & 0 & 1\\end{matrix}\\right]$"
      ],
      "text/plain": [
       "<IPython.core.display.Math object>"
      ]
     },
     "metadata": {},
     "output_type": "display_data"
    },
    {
     "data": {
      "text/latex": [
       "$\\displaystyle R_1^2 = \\left[\\begin{matrix}\\cos{\\left(\\theta_{2}{\\left(t \\right)} \\right)} & - \\sin{\\left(\\theta_{2}{\\left(t \\right)} \\right)} & 0\\\\\\sin{\\left(\\theta_{2}{\\left(t \\right)} \\right)} & \\cos{\\left(\\theta_{2}{\\left(t \\right)} \\right)} & 0\\\\0 & 0 & 1\\end{matrix}\\right]$"
      ],
      "text/plain": [
       "<IPython.core.display.Math object>"
      ]
     },
     "metadata": {},
     "output_type": "display_data"
    },
    {
     "data": {
      "text/latex": [
       "$\\displaystyle R_0^2 = \\left[\\begin{matrix}- \\sin{\\left(\\theta_{1}{\\left(t \\right)} \\right)} \\sin{\\left(\\theta_{2}{\\left(t \\right)} \\right)} + \\cos{\\left(\\theta_{1}{\\left(t \\right)} \\right)} \\cos{\\left(\\theta_{2}{\\left(t \\right)} \\right)} & - \\sin{\\left(\\theta_{1}{\\left(t \\right)} \\right)} \\cos{\\left(\\theta_{2}{\\left(t \\right)} \\right)} - \\sin{\\left(\\theta_{2}{\\left(t \\right)} \\right)} \\cos{\\left(\\theta_{1}{\\left(t \\right)} \\right)} & 0\\\\\\sin{\\left(\\theta_{1}{\\left(t \\right)} \\right)} \\cos{\\left(\\theta_{2}{\\left(t \\right)} \\right)} + \\sin{\\left(\\theta_{2}{\\left(t \\right)} \\right)} \\cos{\\left(\\theta_{1}{\\left(t \\right)} \\right)} & - \\sin{\\left(\\theta_{1}{\\left(t \\right)} \\right)} \\sin{\\left(\\theta_{2}{\\left(t \\right)} \\right)} + \\cos{\\left(\\theta_{1}{\\left(t \\right)} \\right)} \\cos{\\left(\\theta_{2}{\\left(t \\right)} \\right)} & 0\\\\0 & 0 & 1\\end{matrix}\\right]$"
      ],
      "text/plain": [
       "<IPython.core.display.Math object>"
      ]
     },
     "metadata": {},
     "output_type": "display_data"
    },
    {
     "data": {
      "text/latex": [
       "$\\displaystyle D_1^{c1} = \\left[\\begin{matrix}l_{c1}\\\\0\\\\0\\end{matrix}\\right]$"
      ],
      "text/plain": [
       "<IPython.core.display.Math object>"
      ]
     },
     "metadata": {},
     "output_type": "display_data"
    },
    {
     "data": {
      "text/latex": [
       "$\\displaystyle D_1^{c2} = \\left[\\begin{matrix}l_{1}\\\\0\\\\0\\end{matrix}\\right]$"
      ],
      "text/plain": [
       "<IPython.core.display.Math object>"
      ]
     },
     "metadata": {},
     "output_type": "display_data"
    },
    {
     "data": {
      "text/latex": [
       "$\\displaystyle D_2^{c2} = \\left[\\begin{matrix}0\\\\0\\\\0\\end{matrix}\\right]$"
      ],
      "text/plain": [
       "<IPython.core.display.Math object>"
      ]
     },
     "metadata": {},
     "output_type": "display_data"
    }
   ],
   "source": [
    "display(Math(f\"T_0^1 = {sp.latex(T_01)}\"))\n",
    "display(Math(f\"T_1^2 = {sp.latex(T_12)}\"))\n",
    "\n",
    "display(Math(f\"R_0^1 = {sp.latex(R_01)}\"))\n",
    "display(Math(f\"R_1^2 = {sp.latex(R_12)}\"))\n",
    "display(Math(f\"R_0^2 = {sp.latex(R_02)}\"))\n",
    "\n",
    "display(Math(f\"D_1^{{c1}} = {sp.latex(D_1c1)}\"))\n",
    "display(Math(f\"D_1^{{c2}} = {sp.latex(D_1c2)}\"))\n",
    "display(Math(f\"D_2^{{c2}} = {sp.latex(D_2c2)}\"))"
   ]
  },
  {
   "cell_type": "markdown",
   "metadata": {},
   "source": [
    "Now, we can calculate the Jacobians for the system. Note that we're mainly concerned about the center of mass for every link, so the D vector refers to the distances to the center of mass of each link.\n"
   ]
  },
  {
   "cell_type": "code",
   "execution_count": 113,
   "metadata": {},
   "outputs": [],
   "source": [
    "J_v1 = sp.simplify(sp.Matrix.hstack(\n",
    "    R_01[:, 2].cross(R_01 @ D_1c1),\n",
    "    sp.zeros(3, 1)\n",
    "))\n",
    "\n",
    "J_v2 = sp.simplify(sp.Matrix.hstack(\n",
    "    R_01[:, 2].cross(R_01 @ D_1c2),\n",
    "    R_02[:, 2].cross(R_02 @ D_2c2)\n",
    "))\n",
    "\n",
    "J_omega1 = sp.simplify(sp.Matrix.hstack(\n",
    "    R_01[:, 2],\n",
    "    sp.zeros(3, 1)\n",
    "))\n",
    "\n",
    "J_omega2 = sp.simplify(sp.Matrix.hstack(\n",
    "    R_01[:, 2],\n",
    "    R_02[:, 2]\n",
    "))\n",
    "\n"
   ]
  },
  {
   "cell_type": "code",
   "execution_count": 114,
   "metadata": {},
   "outputs": [
    {
     "data": {
      "text/latex": [
       "$\\displaystyle J_{v2} = \\left[\\begin{matrix}- l_{1} \\sin{\\left(\\theta_{1}{\\left(t \\right)} \\right)} & 0\\\\l_{1} \\cos{\\left(\\theta_{1}{\\left(t \\right)} \\right)} & 0\\\\0 & 0\\end{matrix}\\right]$"
      ],
      "text/plain": [
       "<IPython.core.display.Math object>"
      ]
     },
     "metadata": {},
     "output_type": "display_data"
    },
    {
     "data": {
      "text/latex": [
       "$\\displaystyle J_{\\omega2} = \\left[\\begin{matrix}0 & 0\\\\0 & 0\\\\1 & 1\\end{matrix}\\right]$"
      ],
      "text/plain": [
       "<IPython.core.display.Math object>"
      ]
     },
     "metadata": {},
     "output_type": "display_data"
    }
   ],
   "source": [
    "display(Math(f\"J_{{v2}} = {sp.latex(J_v2)}\"))\n",
    "display(Math(f\"J_{{\\\\omega2}} = {sp.latex(J_omega2)}\"))"
   ]
  },
  {
   "cell_type": "markdown",
   "metadata": {},
   "source": [
    "Using the moment of inertias for the system and the Jacobians, we'll calculate the required torque vector.\n"
   ]
  },
  {
   "cell_type": "code",
   "execution_count": 115,
   "metadata": {},
   "outputs": [],
   "source": [
    "M = (m_1 * J_v1.T @ J_v1 + (J_omega1.T * I_c1) @ J_omega1) + \\\n",
    "    (m_2 * J_v2.T @ J_v2 + (J_omega2.T * I_c2) @ J_omega2)\n",
    "\n",
    "Q = sp.Matrix([theta_1, theta_2]).reshape(2, 1)\n",
    "Q_d = sp.diff(Q, t)\n",
    "Q_dd = sp.diff(Q_d, t)\n",
    "\n",
    "V = M.diff(t) * Q_d - sp.Rational(1, 2) * sp.Matrix.vstack(\n",
    "    Q_d.T * M.diff(theta_1) * Q_d,\n",
    "    Q_d.T * M.diff(theta_2) * Q_d\n",
    ")\n",
    "\n",
    "P = m_1 * g * l_c1 * sp.sin(theta_1) + m_2 * g * l_1 * sp.sin(theta_1)\n",
    "\n",
    "G = sp.Matrix([\n",
    "    P.diff(theta_1),\n",
    "    P.diff(theta_2)\n",
    "]).reshape(2, 1)\n",
    "\n",
    "T = sp.simplify(M * Q_dd + V + G)\n"
   ]
  },
  {
   "cell_type": "code",
   "execution_count": 116,
   "metadata": {},
   "outputs": [
    {
     "data": {
      "text/latex": [
       "$\\displaystyle M = \\left[\\begin{matrix}\\frac{l_{1}^{2} m_{1}}{12} + l_{1}^{2} m_{2} \\sin^{2}{\\left(\\theta_{1}{\\left(t \\right)} \\right)} + l_{1}^{2} m_{2} \\cos^{2}{\\left(\\theta_{1}{\\left(t \\right)} \\right)} + l_{c1}^{2} m_{1} \\sin^{2}{\\left(\\theta_{1}{\\left(t \\right)} \\right)} + l_{c1}^{2} m_{1} \\cos^{2}{\\left(\\theta_{1}{\\left(t \\right)} \\right)} + \\frac{m_{2} r_{w}^{2}}{2} & \\frac{m_{2} r_{w}^{2}}{2}\\\\\\frac{m_{2} r_{w}^{2}}{2} & \\frac{m_{2} r_{w}^{2}}{2}\\end{matrix}\\right]$"
      ],
      "text/plain": [
       "<IPython.core.display.Math object>"
      ]
     },
     "metadata": {},
     "output_type": "display_data"
    },
    {
     "data": {
      "text/latex": [
       "$\\displaystyle Q = \\left[\\begin{matrix}\\theta_{1}{\\left(t \\right)}\\\\\\theta_{2}{\\left(t \\right)}\\end{matrix}\\right]$"
      ],
      "text/plain": [
       "<IPython.core.display.Math object>"
      ]
     },
     "metadata": {},
     "output_type": "display_data"
    },
    {
     "data": {
      "text/latex": [
       "$\\displaystyle Q_d = \\left[\\begin{matrix}\\frac{d}{d t} \\theta_{1}{\\left(t \\right)}\\\\\\frac{d}{d t} \\theta_{2}{\\left(t \\right)}\\end{matrix}\\right]$"
      ],
      "text/plain": [
       "<IPython.core.display.Math object>"
      ]
     },
     "metadata": {},
     "output_type": "display_data"
    },
    {
     "data": {
      "text/latex": [
       "$\\displaystyle Q_{dd} = \\left[\\begin{matrix}\\frac{d^{2}}{d t^{2}} \\theta_{1}{\\left(t \\right)}\\\\\\frac{d^{2}}{d t^{2}} \\theta_{2}{\\left(t \\right)}\\end{matrix}\\right]$"
      ],
      "text/plain": [
       "<IPython.core.display.Math object>"
      ]
     },
     "metadata": {},
     "output_type": "display_data"
    },
    {
     "data": {
      "text/latex": [
       "$\\displaystyle V = \\left[\\begin{matrix}0\\\\0\\end{matrix}\\right]$"
      ],
      "text/plain": [
       "<IPython.core.display.Math object>"
      ]
     },
     "metadata": {},
     "output_type": "display_data"
    },
    {
     "data": {
      "text/latex": [
       "$\\displaystyle G = \\left[\\begin{matrix}g l_{1} m_{2} \\cos{\\left(\\theta_{1}{\\left(t \\right)} \\right)} + g l_{c1} m_{1} \\cos{\\left(\\theta_{1}{\\left(t \\right)} \\right)}\\\\0\\end{matrix}\\right]$"
      ],
      "text/plain": [
       "<IPython.core.display.Math object>"
      ]
     },
     "metadata": {},
     "output_type": "display_data"
    },
    {
     "data": {
      "text/latex": [
       "$\\displaystyle T = \\left[\\begin{matrix}g l_{1} m_{2} \\cos{\\left(\\theta_{1}{\\left(t \\right)} \\right)} + g l_{c1} m_{1} \\cos{\\left(\\theta_{1}{\\left(t \\right)} \\right)} + \\frac{m_{2} r_{w}^{2} \\frac{d^{2}}{d t^{2}} \\theta_{2}{\\left(t \\right)}}{2} + \\frac{\\left(l_{1}^{2} m_{1} + 12 l_{1}^{2} m_{2} + 12 l_{c1}^{2} m_{1} + 6 m_{2} r_{w}^{2}\\right) \\frac{d^{2}}{d t^{2}} \\theta_{1}{\\left(t \\right)}}{12}\\\\\\frac{m_{2} r_{w}^{2} \\left(\\frac{d^{2}}{d t^{2}} \\theta_{1}{\\left(t \\right)} + \\frac{d^{2}}{d t^{2}} \\theta_{2}{\\left(t \\right)}\\right)}{2}\\end{matrix}\\right]$"
      ],
      "text/plain": [
       "<IPython.core.display.Math object>"
      ]
     },
     "metadata": {},
     "output_type": "display_data"
    },
    {
     "data": {
      "text/latex": [
       "$\\displaystyle M \\ddot{Q} + V + G = T$"
      ],
      "text/plain": [
       "<IPython.core.display.Math object>"
      ]
     },
     "metadata": {},
     "output_type": "display_data"
    }
   ],
   "source": [
    "display(Math(f\"M = {sp.latex(M)}\"))\n",
    "\n",
    "display(Math(f\"Q = {sp.latex(Q)}\"))\n",
    "display(Math(f\"Q_d = {sp.latex(Q_d)}\"))\n",
    "display(Math(f\"Q_{{dd}} = {sp.latex(Q_dd)}\"))\n",
    "\n",
    "display(Math(f\"V = {sp.latex(V)}\"))\n",
    "\n",
    "display(Math(f\"G = {sp.latex(G)}\"))\n",
    "\n",
    "display(Math(f\"T = {sp.latex(T)}\"))\n",
    "\n",
    "display(Math(\"M \\\\ddot{Q} + V + G = T\"))\n"
   ]
  },
  {
   "cell_type": "markdown",
   "metadata": {},
   "source": [
    "# Inverse Kinematics\n",
    "By constraining the torque vector's first element to be zero, we can solve for the required thetas.\n"
   ]
  },
  {
   "cell_type": "code",
   "execution_count": 117,
   "metadata": {},
   "outputs": [],
   "source": [
    "sol = sp.solve(sp.Eq(T[0], 0), [theta_1, theta_1d, theta_1dd, theta_2, theta_2d, theta_2dd])\n",
    "\n",
    "T_modified = sp.simplify(T.subs(theta_1dd, sol[0][2]))"
   ]
  },
  {
   "cell_type": "code",
   "execution_count": 118,
   "metadata": {},
   "outputs": [
    {
     "data": {
      "text/latex": [
       "$\\displaystyle solutions = \\left[ \\left( \\theta_{1}{\\left(t \\right)}, \\  \\frac{d}{d t} \\theta_{1}{\\left(t \\right)}, \\  - \\frac{12 g l_{1} m_{2} \\cos{\\left(\\theta_{1}{\\left(t \\right)} \\right)} + 12 g l_{c1} m_{1} \\cos{\\left(\\theta_{1}{\\left(t \\right)} \\right)} + 6 m_{2} r_{w}^{2} \\frac{d^{2}}{d t^{2}} \\theta_{2}{\\left(t \\right)}}{l_{1}^{2} m_{1} + 12 l_{1}^{2} m_{2} + 12 l_{c1}^{2} m_{1} + 6 m_{2} r_{w}^{2}}, \\  \\theta_{2}{\\left(t \\right)}, \\  \\frac{d}{d t} \\theta_{2}{\\left(t \\right)}, \\  \\frac{d^{2}}{d t^{2}} \\theta_{2}{\\left(t \\right)}\\right)\\right]$"
      ],
      "text/plain": [
       "<IPython.core.display.Math object>"
      ]
     },
     "metadata": {},
     "output_type": "display_data"
    },
    {
     "data": {
      "text/latex": [
       "$\\displaystyle T_{modified} = \\left[\\begin{matrix}0\\\\\\frac{m_{2} r_{w}^{2} \\left(- 12 g l_{1} m_{2} \\cos{\\left(\\theta_{1}{\\left(t \\right)} \\right)} - 12 g l_{c1} m_{1} \\cos{\\left(\\theta_{1}{\\left(t \\right)} \\right)} + l_{1}^{2} m_{1} \\frac{d^{2}}{d t^{2}} \\theta_{2}{\\left(t \\right)} + 12 l_{1}^{2} m_{2} \\frac{d^{2}}{d t^{2}} \\theta_{2}{\\left(t \\right)} + 12 l_{c1}^{2} m_{1} \\frac{d^{2}}{d t^{2}} \\theta_{2}{\\left(t \\right)}\\right)}{2 \\left(l_{1}^{2} m_{1} + 12 l_{1}^{2} m_{2} + 12 l_{c1}^{2} m_{1} + 6 m_{2} r_{w}^{2}\\right)}\\end{matrix}\\right]$"
      ],
      "text/plain": [
       "<IPython.core.display.Math object>"
      ]
     },
     "metadata": {},
     "output_type": "display_data"
    }
   ],
   "source": [
    "display(Math(f\"solutions = {sp.latex(sol)}\"))\n",
    "\n",
    "display(Math(f\"T_{{modified}} = {sp.latex(T_modified)}\"))"
   ]
  },
  {
   "cell_type": "markdown",
   "metadata": {},
   "source": [
    "# Forward Kinematics"
   ]
  },
  {
   "cell_type": "code",
   "execution_count": 119,
   "metadata": {},
   "outputs": [
    {
     "data": {
      "image/png": "[encoded data removed]",
      "text/latex": [
       "$\\displaystyle \\left\\{ \\ddot{\\theta}_{1} : \\frac{- 12 g l_{1} m_{2} \\cos{\\left(\\theta_{1} \\right)} - 12 g l_{c1} m_{1} \\cos{\\left(\\theta_{1} \\right)} - 12 \\tau}{l_{1}^{2} m_{1} + 12 l_{1}^{2} m_{2} + 12 l_{c1}^{2} m_{1}}, \\  \\ddot{\\theta}_{2} : \\frac{12 g l_{1} m_{2}^{2} r_{w}^{2} \\cos{\\left(\\theta_{1} \\right)} + 12 g l_{c1} m_{1} m_{2} r_{w}^{2} \\cos{\\left(\\theta_{1} \\right)} + 2 l_{1}^{2} m_{1} \\tau + 24 l_{1}^{2} m_{2} \\tau + 24 l_{c1}^{2} m_{1} \\tau + 12 m_{2} r_{w}^{2} \\tau}{l_{1}^{2} m_{1} m_{2} r_{w}^{2} + 12 l_{1}^{2} m_{2}^{2} r_{w}^{2} + 12 l_{c1}^{2} m_{1} m_{2} r_{w}^{2}}\\right\\}$"
      ],
      "text/plain": [
       "⎧                                                                     2    2  \n",
       "⎪    -12⋅g⋅l₁⋅m₂⋅cos(θ₁) - 12⋅g⋅l_c1⋅m₁⋅cos(θ₁) - 12⋅τ      12⋅g⋅l₁⋅m₂ ⋅r_w ⋅c\n",
       "⎨θ₁̈: ─────────────────────────────────────────────────, θ₂̈: ────────────────\n",
       "⎪               2           2             2                                   \n",
       "⎩             l₁ ⋅m₁ + 12⋅l₁ ⋅m₂ + 12⋅l_c1 ⋅m₁                                \n",
       "\n",
       "                            2               2             2               2   \n",
       "os(θ₁) + 12⋅g⋅l_c1⋅m₁⋅m₂⋅r_w ⋅cos(θ₁) + 2⋅l₁ ⋅m₁⋅τ + 24⋅l₁ ⋅m₂⋅τ + 24⋅l_c1 ⋅m₁\n",
       "──────────────────────────────────────────────────────────────────────────────\n",
       "              2          2        2   2    2          2          2            \n",
       "            l₁ ⋅m₁⋅m₂⋅r_w  + 12⋅l₁ ⋅m₂ ⋅r_w  + 12⋅l_c1 ⋅m₁⋅m₂⋅r_w             \n",
       "\n",
       "              2  ⎫\n",
       "⋅τ + 12⋅m₂⋅r_w ⋅τ⎪\n",
       "───────────────────⎬\n",
       "                 ⎪\n",
       "                 ⎭"
      ]
     },
     "metadata": {},
     "output_type": "display_data"
    }
   ],
   "source": [
    "tau = sp.Symbol('tau')\n",
    "system = [sp.Eq(T[0], 0).subs(l_c2, 0), sp.Eq(T[1], tau).subs(l_c2, 0)]\n",
    "sol = sp.solve(system, [theta_1dd, theta_2dd])\n",
    "display(sp.simplify(sol))"
   ]
  },
  {
   "cell_type": "markdown",
   "metadata": {},
   "source": []
  },
  {
   "cell_type": "code",
   "execution_count": null,
   "metadata": {},
   "outputs": [],
   "source": []
  }
 ],
 "metadata": {
  "kernelspec": {
   "display_name": "Python 3.10.4 ('me139')",
   "language": "python",
   "name": "python3"
  },
  "language_info": {
   "codemirror_mode": {
    "name": "ipython",
    "version": 3
   },
   "file_extension": ".py",
   "mimetype": "text/x-python",
   "name": "python",
   "nbconvert_exporter": "python",
   "pygments_lexer": "ipython3",
   "version": "3.10.4"
  },
  "orig_nbformat": 4,
  "vscode": {
   "interpreter": {
    "hash": "b0202123a5b8a26bebd5cbe4ca3f3cda28476a386251123ac89c9cacd5b2b628"
   }
  }
 },
 "nbformat": 4,
 "nbformat_minor": 2
}
