{
 "cells": [
  {
   "cell_type": "code",
   "execution_count": null,
   "metadata": {},
   "outputs": [],
   "source": [
    "import sympy as sp\n",
    "from sympy.physics.mechanics import dynamicsymbols, init_vprinting\n",
    "from IPython.display import display, Math\n",
    "import matplotlib.pyplot as plt\n",
    "\n",
    "init_vprinting()"
   ]
  },
  {
   "cell_type": "markdown",
   "metadata": {},
   "source": [
    "# Case 2\n",
    "Double link + reaction wheel"
   ]
  },
  {
   "cell_type": "code",
   "execution_count": null,
   "metadata": {},
   "outputs": [],
   "source": [
    "# Environment\n",
    "g, t = sp.symbols('g,t')\n",
    "\n",
    "# Thetas\n",
    "theta_1, theta_2, theta_w = dynamicsymbols(\"theta_1,theta_2,theta_w\")\n",
    "theta_1d, theta_2d, theta_wd = sp.diff(sp.Matrix([theta_1, theta_2, theta_w]), t)\n",
    "theta_1dd, theta_2dd, theta_wdd = sp.diff(sp.Matrix([theta_1d, theta_2d, theta_wd]), t)\n",
    "\n",
    "# Masses\n",
    "m1, m2, mw = sp.symbols('m1,m2,mw')\n",
    "\n",
    "# Lengths\n",
    "l_c1, l_c2 = sp.symbols(\"l_c1, l_c2\")\n",
    "l_1, l_2 = sp.symbols(\"l_1,l_2\")\n",
    "r = sp.symbols(\"r\")"
   ]
  },
  {
   "cell_type": "code",
   "execution_count": null,
   "metadata": {},
   "outputs": [],
   "source": [
    "def get_velocity_squared(x, y):\n",
    "    return sp.simplify(x.diff(t)**2 + y.diff(t)**2)\n",
    "\n",
    "x_1 = sp.Rational(1,2) * l_1 * sp.cos(theta_1)\n",
    "y_1 = sp.Rational(1,2) * l_1 * sp.sin(theta_1)\n",
    "v1_squared = get_velocity_squared(x_1, y_1)\n",
    "T1 = sp.Rational(1,2)*m1*v1_squared\n",
    "\n",
    "x_2 = l_1*sp.cos(theta_1) + sp.Rational(1,2) * l_2 * sp.cos(theta_2)\n",
    "y_2 = l_1*sp.sin(theta_1) + sp.Rational(1,2) * l_2 * sp.sin(theta_2)\n",
    "\n",
    "v2_squared = get_velocity_squared(x_2, y_2)\n",
    "T2 = sp.Rational(1,2)*m2*v2_squared\n",
    "\n",
    "display(sp.simplify(T1 + 1/12*m1*l_1**2))"
   ]
  },
  {
   "cell_type": "code",
   "execution_count": null,
   "metadata": {},
   "outputs": [],
   "source": [
    "T =  sp.Rational(1,2) * (sp.Rational(1, 3)*m1*l_1**2*theta_1d**2 + m2*l_1**2*theta_1d**2 + m2*r**2*(theta_1d + theta_2d)**2)\n",
    "V = (m1*l_c1 + m2*l_1)*g*sp.sin(theta_1)\n",
    "L = T - V\n",
    "display(L)"
   ]
  },
  {
   "cell_type": "code",
   "execution_count": null,
   "metadata": {},
   "outputs": [],
   "source": [
    "tau2 = sp.symbols(\"tau2\")\n",
    "\n",
    "eq1 = sp.simplify(sp.Equality(L.diff(theta_1d).diff(t) - L.diff(theta_1), 0))\n",
    "eq2 = sp.simplify(sp.Equality(L.diff(theta_2d).diff(t) - L.diff(theta_2), tau2))\n",
    "\n",
    "display(eq1)\n",
    "display(eq2)"
   ]
  },
  {
   "cell_type": "code",
   "execution_count": null,
   "metadata": {},
   "outputs": [],
   "source": [
    "sp.solve([eq1, eq2], [theta_1dd, theta_2dd])"
   ]
  },
  {
   "cell_type": "code",
   "execution_count": null,
   "metadata": {},
   "outputs": [],
   "source": [
    "theta_1dd_sol = sp.solve(eq1, theta_1dd)\n",
    "display(theta_1dd_sol[0])"
   ]
  },
  {
   "cell_type": "code",
   "execution_count": null,
   "metadata": {},
   "outputs": [],
   "source": [
    "sp.solve(eq2.subs(theta_1dd, theta_1dd_sol[0]), tau2)"
   ]
  }
 ],
 "metadata": {
  "kernelspec": {
   "display_name": "Python 3.10.4 ('me139')",
   "language": "python",
   "name": "python3"
  },
  "language_info": {
   "codemirror_mode": {
    "name": "ipython",
    "version": 3
   },
   "file_extension": ".py",
   "mimetype": "text/x-python",
   "name": "python",
   "nbconvert_exporter": "python",
   "pygments_lexer": "ipython3",
   "version": "3.10.4"
  },
  "orig_nbformat": 4,
  "vscode": {
   "interpreter": {
    "hash": "b0202123a5b8a26bebd5cbe4ca3f3cda28476a386251123ac89c9cacd5b2b628"
   }
  }
 },
 "nbformat": 4,
 "nbformat_minor": 2
}
