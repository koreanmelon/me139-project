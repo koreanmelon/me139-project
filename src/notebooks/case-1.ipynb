{
 "cells": [
  {
   "cell_type": "markdown",
   "metadata": {},
   "source": [
    "## Case 1: Underactuated Inverted Pendulum with Reaction Wheel\n"
   ]
  },
  {
   "cell_type": "code",
   "execution_count": 25,
   "metadata": {},
   "outputs": [],
   "source": [
    "import sympy as sp\n",
    "from sympy.physics.mechanics import dynamicsymbols, init_vprinting\n",
    "from IPython.display import display, Math\n",
    "\n",
    "init_vprinting()"
   ]
  },
  {
   "cell_type": "markdown",
   "metadata": {},
   "source": [
    "We'll simplify the problem to one involving a reaction wheel at the top of an inverted pendulum and define our system as follows:\n",
    "\n",
    "<img src=\"../../assets/diagrams/case-1.jpg\" width=750/>\n"
   ]
  },
  {
   "cell_type": "markdown",
   "metadata": {},
   "source": [
    "Next, we'll define the following variables to describe each joint and link in the system.\n"
   ]
  },
  {
   "cell_type": "code",
   "execution_count": 26,
   "metadata": {},
   "outputs": [],
   "source": [
    "# Constants\n",
    "g, t = sp.symbols('g,t')\n",
    "\n",
    "# Link 1\n",
    "alpha_1 = 0\n",
    "b_1 = 0\n",
    "theta_1 = dynamicsymbols(\"theta_1\")\n",
    "theta_1d = sp.diff(theta_1, t)\n",
    "theta_1dd = sp.diff(theta_1d, t)\n",
    "d_1 = 0\n",
    "\n",
    "l_1, l_c1 = sp.symbols(\"l_1 l_c1\")\n",
    "m_1 = sp.symbols(\"m_1\")\n",
    "I_c1 = sp.Rational(1, 12) * m_1 * l_1**2\n",
    "# I_c1 = sp.Symbol(\"I_c1\")\n",
    "# I_c1 = 0\n",
    "\n",
    "# Link 2\n",
    "alpha_2 = 0\n",
    "b_2 = l_1\n",
    "theta_2 = dynamicsymbols(\"theta_2\")\n",
    "theta_2d = sp.diff(theta_2, t)\n",
    "theta_2dd = sp.diff(theta_2d, t)\n",
    "d_2 = 0\n",
    "\n",
    "r = sp.Symbol(\"r\")\n",
    "l_c2 = 0\n",
    "m_2 = sp.Symbol(\"m_2\")\n",
    "I_c2 = sp.Rational(1, 2) * m_2 * r**2\n",
    "# I_c2 = sp.Symbol(\"I_c2\")\n"
   ]
  },
  {
   "cell_type": "markdown",
   "metadata": {},
   "source": [
    "We can then calculate the transformation matrices for the different frames to the base frame.\n"
   ]
  },
  {
   "cell_type": "code",
   "execution_count": 27,
   "metadata": {},
   "outputs": [],
   "source": [
    "T_01 = sp.simplify(sp.Matrix([\n",
    "    [sp.cos(theta_1), -sp.sin(theta_1), 0, b_1],  # type: ignore\n",
    "    [sp.cos(alpha_1) * sp.sin(theta_1), sp.cos(alpha_1) * sp.cos(theta_1), -sp.sin(alpha_1), -d_1 * sp.sin(alpha_1)],  # type: ignore\n",
    "    [sp.sin(alpha_1) * sp.sin(theta_1), sp.sin(alpha_1) * sp.cos(theta_1), sp.cos(alpha_1), d_1 * sp.cos(alpha_1)],  # type: ignore\n",
    "    [0, 0, 0, 1]\n",
    "]))\n",
    "\n",
    "T_12 = sp.simplify(sp.Matrix([\n",
    "    [sp.cos(theta_2), -sp.sin(theta_2), 0, b_2],  # type: ignore\n",
    "    [sp.cos(alpha_2) * sp.sin(theta_2), sp.cos(alpha_2) * sp.cos(theta_2), -sp.sin(alpha_2), -d_2 * sp.sin(alpha_2)],  # type: ignore\n",
    "    [sp.sin(alpha_2) * sp.sin(theta_2), sp.sin(alpha_2) * sp.cos(theta_2), sp.cos(alpha_2), d_2 * sp.cos(alpha_2)],  # type: ignore\n",
    "    [0, 0, 0, 1]\n",
    "]))\n",
    "\n",
    "T_02 = sp.simplify(T_01 * T_12)\n",
    "\n",
    "R_01 = T_01[:3, :3]\n",
    "R_12 = T_12[:3, :3]\n",
    "R_02 = T_02[:3, :3]\n",
    "\n",
    "D_01 = T_01[:3, 3]\n",
    "D_12 = T_12[:3, 3]\n",
    "\n",
    "D_1c1 = sp.Matrix([l_c1, 0, 0]).reshape(3, 1)\n",
    "\n",
    "D_1c2 = D_12\n",
    "\n",
    "D_2c2 = sp.Matrix([l_c2, 0, 0]).reshape(3, 1)\n"
   ]
  },
  {
   "cell_type": "code",
   "execution_count": 28,
   "metadata": {},
   "outputs": [
    {
     "data": {
      "text/latex": [
       "$\\displaystyle T_0^1 = \\left[\\begin{matrix}\\cos{\\left(\\theta_{1}{\\left(t \\right)} \\right)} & - \\sin{\\left(\\theta_{1}{\\left(t \\right)} \\right)} & 0 & 0\\\\\\sin{\\left(\\theta_{1}{\\left(t \\right)} \\right)} & \\cos{\\left(\\theta_{1}{\\left(t \\right)} \\right)} & 0 & 0\\\\0 & 0 & 1 & 0\\\\0 & 0 & 0 & 1\\end{matrix}\\right]$"
      ],
      "text/plain": [
       "<IPython.core.display.Math object>"
      ]
     },
     "metadata": {},
     "output_type": "display_data"
    },
    {
     "data": {
      "text/latex": [
       "$\\displaystyle T_1^2 = \\left[\\begin{matrix}\\cos{\\left(\\theta_{2}{\\left(t \\right)} \\right)} & - \\sin{\\left(\\theta_{2}{\\left(t \\right)} \\right)} & 0 & l_{1}\\\\\\sin{\\left(\\theta_{2}{\\left(t \\right)} \\right)} & \\cos{\\left(\\theta_{2}{\\left(t \\right)} \\right)} & 0 & 0\\\\0 & 0 & 1 & 0\\\\0 & 0 & 0 & 1\\end{matrix}\\right]$"
      ],
      "text/plain": [
       "<IPython.core.display.Math object>"
      ]
     },
     "metadata": {},
     "output_type": "display_data"
    },
    {
     "data": {
      "text/latex": [
       "$\\displaystyle T_0^2 = \\left[\\begin{matrix}\\cos{\\left(\\theta_{1}{\\left(t \\right)} + \\theta_{2}{\\left(t \\right)} \\right)} & - \\sin{\\left(\\theta_{1}{\\left(t \\right)} + \\theta_{2}{\\left(t \\right)} \\right)} & 0 & l_{1} \\cos{\\left(\\theta_{1}{\\left(t \\right)} \\right)}\\\\\\sin{\\left(\\theta_{1}{\\left(t \\right)} + \\theta_{2}{\\left(t \\right)} \\right)} & \\cos{\\left(\\theta_{1}{\\left(t \\right)} + \\theta_{2}{\\left(t \\right)} \\right)} & 0 & l_{1} \\sin{\\left(\\theta_{1}{\\left(t \\right)} \\right)}\\\\0 & 0 & 1 & 0\\\\0 & 0 & 0 & 1\\end{matrix}\\right]$"
      ],
      "text/plain": [
       "<IPython.core.display.Math object>"
      ]
     },
     "metadata": {},
     "output_type": "display_data"
    },
    {
     "data": {
      "text/latex": [
       "$\\displaystyle R_0^1 = \\left[\\begin{matrix}\\cos{\\left(\\theta_{1}{\\left(t \\right)} \\right)} & - \\sin{\\left(\\theta_{1}{\\left(t \\right)} \\right)} & 0\\\\\\sin{\\left(\\theta_{1}{\\left(t \\right)} \\right)} & \\cos{\\left(\\theta_{1}{\\left(t \\right)} \\right)} & 0\\\\0 & 0 & 1\\end{matrix}\\right]$"
      ],
      "text/plain": [
       "<IPython.core.display.Math object>"
      ]
     },
     "metadata": {},
     "output_type": "display_data"
    },
    {
     "data": {
      "text/latex": [
       "$\\displaystyle R_1^2 = \\left[\\begin{matrix}\\cos{\\left(\\theta_{2}{\\left(t \\right)} \\right)} & - \\sin{\\left(\\theta_{2}{\\left(t \\right)} \\right)} & 0\\\\\\sin{\\left(\\theta_{2}{\\left(t \\right)} \\right)} & \\cos{\\left(\\theta_{2}{\\left(t \\right)} \\right)} & 0\\\\0 & 0 & 1\\end{matrix}\\right]$"
      ],
      "text/plain": [
       "<IPython.core.display.Math object>"
      ]
     },
     "metadata": {},
     "output_type": "display_data"
    },
    {
     "data": {
      "text/latex": [
       "$\\displaystyle R_0^2 = \\left[\\begin{matrix}\\cos{\\left(\\theta_{1}{\\left(t \\right)} + \\theta_{2}{\\left(t \\right)} \\right)} & - \\sin{\\left(\\theta_{1}{\\left(t \\right)} + \\theta_{2}{\\left(t \\right)} \\right)} & 0\\\\\\sin{\\left(\\theta_{1}{\\left(t \\right)} + \\theta_{2}{\\left(t \\right)} \\right)} & \\cos{\\left(\\theta_{1}{\\left(t \\right)} + \\theta_{2}{\\left(t \\right)} \\right)} & 0\\\\0 & 0 & 1\\end{matrix}\\right]$"
      ],
      "text/plain": [
       "<IPython.core.display.Math object>"
      ]
     },
     "metadata": {},
     "output_type": "display_data"
    },
    {
     "data": {
      "text/latex": [
       "$\\displaystyle D_1^{c1} = \\left[\\begin{matrix}l_{c1}\\\\0\\\\0\\end{matrix}\\right]$"
      ],
      "text/plain": [
       "<IPython.core.display.Math object>"
      ]
     },
     "metadata": {},
     "output_type": "display_data"
    },
    {
     "data": {
      "text/latex": [
       "$\\displaystyle D_1^{c2} = \\left[\\begin{matrix}l_{1}\\\\0\\\\0\\end{matrix}\\right]$"
      ],
      "text/plain": [
       "<IPython.core.display.Math object>"
      ]
     },
     "metadata": {},
     "output_type": "display_data"
    },
    {
     "data": {
      "text/latex": [
       "$\\displaystyle D_2^{c2} = \\left[\\begin{matrix}0\\\\0\\\\0\\end{matrix}\\right]$"
      ],
      "text/plain": [
       "<IPython.core.display.Math object>"
      ]
     },
     "metadata": {},
     "output_type": "display_data"
    }
   ],
   "source": [
    "display(Math(f\"T_0^1 = {sp.latex(T_01)}\"))\n",
    "display(Math(f\"T_1^2 = {sp.latex(T_12)}\"))\n",
    "display(Math(f\"T_0^2 = {sp.latex(T_02)}\"))\n",
    "\n",
    "display(Math(f\"R_0^1 = {sp.latex(R_01)}\"))\n",
    "display(Math(f\"R_1^2 = {sp.latex(R_12)}\"))\n",
    "display(Math(f\"R_0^2 = {sp.latex(R_02)}\"))\n",
    "\n",
    "display(Math(f\"D_1^{{c1}} = {sp.latex(D_1c1)}\"))\n",
    "display(Math(f\"D_1^{{c2}} = {sp.latex(D_1c2)}\"))\n",
    "display(Math(f\"D_2^{{c2}} = {sp.latex(D_2c2)}\"))\n"
   ]
  },
  {
   "cell_type": "markdown",
   "metadata": {},
   "source": [
    "Now, we can calculate the Jacobians for the system. Note that we're mainly concerned about the center of mass for every link, so the D vector refers to the distances to the center of mass of each link.\n"
   ]
  },
  {
   "cell_type": "code",
   "execution_count": 29,
   "metadata": {},
   "outputs": [],
   "source": [
    "J_v1 = sp.simplify(sp.Matrix.hstack(\n",
    "    R_01[:, 2].cross(R_01 * D_1c1),\n",
    "    sp.zeros(3, 1)\n",
    "))\n",
    "\n",
    "J_v2 = sp.simplify(sp.Matrix.hstack(\n",
    "    R_01[:, 2].cross(R_01 * D_1c2),\n",
    "    R_02[:, 2].cross(R_02 * D_2c2)\n",
    "))\n",
    "\n",
    "J_omega1 = sp.simplify(sp.Matrix.hstack(\n",
    "    R_01[:, 2],\n",
    "    sp.zeros(3, 1)\n",
    "))\n",
    "\n",
    "J_omega2 = sp.simplify(sp.Matrix.hstack(\n",
    "    R_01[:, 2],\n",
    "    R_02[:, 2]\n",
    "))\n"
   ]
  },
  {
   "cell_type": "code",
   "execution_count": 30,
   "metadata": {},
   "outputs": [
    {
     "data": {
      "text/latex": [
       "$\\displaystyle J_{v1} = \\left[\\begin{matrix}- l_{c1} \\sin{\\left(\\theta_{1}{\\left(t \\right)} \\right)} & 0\\\\l_{c1} \\cos{\\left(\\theta_{1}{\\left(t \\right)} \\right)} & 0\\\\0 & 0\\end{matrix}\\right]$"
      ],
      "text/plain": [
       "<IPython.core.display.Math object>"
      ]
     },
     "metadata": {},
     "output_type": "display_data"
    },
    {
     "data": {
      "text/latex": [
       "$\\displaystyle J_{v2} = \\left[\\begin{matrix}- l_{1} \\sin{\\left(\\theta_{1}{\\left(t \\right)} \\right)} & 0\\\\l_{1} \\cos{\\left(\\theta_{1}{\\left(t \\right)} \\right)} & 0\\\\0 & 0\\end{matrix}\\right]$"
      ],
      "text/plain": [
       "<IPython.core.display.Math object>"
      ]
     },
     "metadata": {},
     "output_type": "display_data"
    },
    {
     "data": {
      "text/latex": [
       "$\\displaystyle J_{v1}^T J_{v1} = \\left[\\begin{matrix}l_{c1}^{2} \\sin^{2}{\\left(\\theta_{1}{\\left(t \\right)} \\right)} + l_{c1}^{2} \\cos^{2}{\\left(\\theta_{1}{\\left(t \\right)} \\right)} & 0\\\\0 & 0\\end{matrix}\\right]$"
      ],
      "text/plain": [
       "<IPython.core.display.Math object>"
      ]
     },
     "metadata": {},
     "output_type": "display_data"
    },
    {
     "data": {
      "text/latex": [
       "$\\displaystyle J_{\\omega1} = \\left[\\begin{matrix}0 & 0\\\\0 & 0\\\\1 & 0\\end{matrix}\\right]$"
      ],
      "text/plain": [
       "<IPython.core.display.Math object>"
      ]
     },
     "metadata": {},
     "output_type": "display_data"
    },
    {
     "data": {
      "text/latex": [
       "$\\displaystyle J_{\\omega2} = \\left[\\begin{matrix}0 & 0\\\\0 & 0\\\\1 & 1\\end{matrix}\\right]$"
      ],
      "text/plain": [
       "<IPython.core.display.Math object>"
      ]
     },
     "metadata": {},
     "output_type": "display_data"
    }
   ],
   "source": [
    "display(Math(f\"J_{{v1}} = {sp.latex(J_v1)}\"))\n",
    "display(Math(f\"J_{{v2}} = {sp.latex(J_v2)}\"))\n",
    "\n",
    "display(Math(f\"J_{{v1}}^T J_{{v1}} = {sp.latex(J_v1.T * J_v1)}\"))\n",
    "\n",
    "display(Math(f\"J_{{\\\\omega1}} = {sp.latex(J_omega1)}\"))\n",
    "display(Math(f\"J_{{\\\\omega2}} = {sp.latex(J_omega2)}\"))"
   ]
  },
  {
   "cell_type": "markdown",
   "metadata": {},
   "source": [
    "Using the moment of inertias for the system and the Jacobians, we'll calculate the required torque vector.\n"
   ]
  },
  {
   "cell_type": "code",
   "execution_count": 31,
   "metadata": {},
   "outputs": [],
   "source": [
    "M = sp.simplify(\n",
    "    (m_1 * J_v1.T * J_v1 + J_omega1.T * sp.diag(I_c1, I_c1, I_c1) * J_omega1) +\n",
    "    (m_2 * J_v2.T * J_v2 + J_omega2.T * sp.diag(I_c2, I_c2, I_c2) * J_omega2)\n",
    ")\n",
    "M_d = sp.simplify(M.diff(t))\n",
    "\n",
    "Q = sp.Matrix([theta_1, theta_2]).reshape(2, 1)\n",
    "Q_d = Q.diff(t)\n",
    "Q_dd = Q_d.diff(t)\n",
    "\n",
    "V = sp.simplify((M_d * Q_d) - sp.Rational(1, 2) * sp.Matrix.vstack(\n",
    "    Q_d.T * M.diff(theta_1) * Q_d,\n",
    "    Q_d.T * M.diff(theta_2) * Q_d\n",
    "))\n",
    "\n",
    "P = sp.simplify((m_1 * l_c1 + m_2 * l_1) * g * sp.sin(theta_1))\n",
    "\n",
    "G = sp.simplify(sp.Matrix([\n",
    "    P.diff(theta_1),\n",
    "    P.diff(theta_2)\n",
    "]).reshape(2, 1))\n",
    "\n",
    "T = sp.simplify(M * Q_dd + V + G)\n"
   ]
  },
  {
   "cell_type": "code",
   "execution_count": 32,
   "metadata": {},
   "outputs": [
    {
     "data": {
      "text/latex": [
       "$\\displaystyle M \\ddot{Q} + V + G = T$"
      ],
      "text/plain": [
       "<IPython.core.display.Math object>"
      ]
     },
     "metadata": {},
     "output_type": "display_data"
    },
    {
     "data": {
      "text/latex": [
       "$\\displaystyle M = \\left[\\begin{matrix}\\frac{l_{1}^{2} m_{1}}{12} + l_{1}^{2} m_{2} + l_{c1}^{2} m_{1} + \\frac{m_{2} r^{2}}{2} & \\frac{m_{2} r^{2}}{2}\\\\\\frac{m_{2} r^{2}}{2} & \\frac{m_{2} r^{2}}{2}\\end{matrix}\\right]$"
      ],
      "text/plain": [
       "<IPython.core.display.Math object>"
      ]
     },
     "metadata": {},
     "output_type": "display_data"
    },
    {
     "data": {
      "text/latex": [
       "$\\displaystyle \\dot{M} = \\left[\\begin{matrix}0 & 0\\\\0 & 0\\end{matrix}\\right]$"
      ],
      "text/plain": [
       "<IPython.core.display.Math object>"
      ]
     },
     "metadata": {},
     "output_type": "display_data"
    },
    {
     "data": {
      "text/latex": [
       "$\\displaystyle Q = \\left[\\begin{matrix}\\theta_{1}{\\left(t \\right)}\\\\\\theta_{2}{\\left(t \\right)}\\end{matrix}\\right]$"
      ],
      "text/plain": [
       "<IPython.core.display.Math object>"
      ]
     },
     "metadata": {},
     "output_type": "display_data"
    },
    {
     "data": {
      "text/latex": [
       "$\\displaystyle \\dot{Q} = \\left[\\begin{matrix}\\frac{d}{d t} \\theta_{1}{\\left(t \\right)}\\\\\\frac{d}{d t} \\theta_{2}{\\left(t \\right)}\\end{matrix}\\right]$"
      ],
      "text/plain": [
       "<IPython.core.display.Math object>"
      ]
     },
     "metadata": {},
     "output_type": "display_data"
    },
    {
     "data": {
      "text/latex": [
       "$\\displaystyle \\ddot{Q} = \\left[\\begin{matrix}\\frac{d^{2}}{d t^{2}} \\theta_{1}{\\left(t \\right)}\\\\\\frac{d^{2}}{d t^{2}} \\theta_{2}{\\left(t \\right)}\\end{matrix}\\right]$"
      ],
      "text/plain": [
       "<IPython.core.display.Math object>"
      ]
     },
     "metadata": {},
     "output_type": "display_data"
    },
    {
     "data": {
      "text/latex": [
       "$\\displaystyle V = \\left[\\begin{matrix}0\\\\0\\end{matrix}\\right]$"
      ],
      "text/plain": [
       "<IPython.core.display.Math object>"
      ]
     },
     "metadata": {},
     "output_type": "display_data"
    },
    {
     "data": {
      "text/latex": [
       "$\\displaystyle G = \\left[\\begin{matrix}g \\left(l_{1} m_{2} + l_{c1} m_{1}\\right) \\cos{\\left(\\theta_{1}{\\left(t \\right)} \\right)}\\\\0\\end{matrix}\\right]$"
      ],
      "text/plain": [
       "<IPython.core.display.Math object>"
      ]
     },
     "metadata": {},
     "output_type": "display_data"
    },
    {
     "data": {
      "text/latex": [
       "$\\displaystyle T = \\left[\\begin{matrix}g \\left(l_{1} m_{2} + l_{c1} m_{1}\\right) \\cos{\\left(\\theta_{1}{\\left(t \\right)} \\right)} + \\frac{m_{2} r^{2} \\frac{d^{2}}{d t^{2}} \\theta_{2}{\\left(t \\right)}}{2} + \\frac{\\left(l_{1}^{2} m_{1} + 12 l_{1}^{2} m_{2} + 12 l_{c1}^{2} m_{1} + 6 m_{2} r^{2}\\right) \\frac{d^{2}}{d t^{2}} \\theta_{1}{\\left(t \\right)}}{12}\\\\\\frac{m_{2} r^{2} \\left(\\frac{d^{2}}{d t^{2}} \\theta_{1}{\\left(t \\right)} + \\frac{d^{2}}{d t^{2}} \\theta_{2}{\\left(t \\right)}\\right)}{2}\\end{matrix}\\right]$"
      ],
      "text/plain": [
       "<IPython.core.display.Math object>"
      ]
     },
     "metadata": {},
     "output_type": "display_data"
    },
    {
     "name": "stdout",
     "output_type": "stream",
     "text": [
      "\\left[\\begin{matrix}g \\left(l_{1} m_{2} + l_{c1} m_{1}\\right) \\cos{\\left(\\theta_{1}{\\left(t \\right)} \\right)} + \\frac{m_{2} r^{2} \\frac{d^{2}}{d t^{2}} \\theta_{2}{\\left(t \\right)}}{2} + \\frac{\\left(l_{1}^{2} m_{1} + 12 l_{1}^{2} m_{2} + 12 l_{c1}^{2} m_{1} + 6 m_{2} r^{2}\\right) \\frac{d^{2}}{d t^{2}} \\theta_{1}{\\left(t \\right)}}{12}\\\\\\frac{m_{2} r^{2} \\left(\\frac{d^{2}}{d t^{2}} \\theta_{1}{\\left(t \\right)} + \\frac{d^{2}}{d t^{2}} \\theta_{2}{\\left(t \\right)}\\right)}{2}\\end{matrix}\\right]\n"
     ]
    }
   ],
   "source": [
    "display(Math(\"M \\\\ddot{Q} + V + G = T\"))\n",
    "\n",
    "display(Math(f\"M = {sp.latex(M)}\"))\n",
    "display(Math(f\"\\\\dot{{M}} = {sp.latex(M_d)}\"))\n",
    "\n",
    "display(Math(f\"Q = {sp.latex(Q)}\"))\n",
    "display(Math(f\"\\\\dot{{Q}} = {sp.latex(Q_d)}\"))\n",
    "display(Math(f\"\\\\ddot{{Q}} = {sp.latex(Q_dd)}\"))\n",
    "\n",
    "display(Math(f\"V = {sp.latex(V)}\"))\n",
    "\n",
    "display(Math(f\"G = {sp.latex(G)}\"))\n",
    "\n",
    "display(Math(f\"T = {sp.latex(T)}\"))\n",
    "\n",
    "print(sp.latex(T))\n"
   ]
  },
  {
   "cell_type": "markdown",
   "metadata": {},
   "source": [
    "# Forward Dynamics"
   ]
  },
  {
   "cell_type": "code",
   "execution_count": 33,
   "metadata": {},
   "outputs": [],
   "source": [
    "tau = sp.symbols('tau')\n",
    "system = [sp.Eq(T[0], 0), sp.Eq(T[1], tau)]\n",
    "sol = sp.solve(system, [theta_1dd, theta_2dd])\n"
   ]
  },
  {
   "cell_type": "code",
   "execution_count": 34,
   "metadata": {},
   "outputs": [
    {
     "data": {
      "text/latex": [
       "$\\displaystyle \\ddot{\\theta_1} = - \\frac{12 g l_{1} m_{2} \\cos{\\left(\\theta_{1}{\\left(t \\right)} \\right)} + 12 g l_{c1} m_{1} \\cos{\\left(\\theta_{1}{\\left(t \\right)} \\right)} + 12 \\tau}{l_{1}^{2} m_{1} + 12 l_{1}^{2} m_{2} + 12 l_{c1}^{2} m_{1}}$"
      ],
      "text/plain": [
       "<IPython.core.display.Math object>"
      ]
     },
     "metadata": {},
     "output_type": "display_data"
    },
    {
     "data": {
      "text/latex": [
       "$\\displaystyle \\ddot{\\theta_2} = \\frac{2 \\cdot \\left(6 g l_{1} m_{2}^{2} r^{2} \\cos{\\left(\\theta_{1}{\\left(t \\right)} \\right)} + 6 g l_{c1} m_{1} m_{2} r^{2} \\cos{\\left(\\theta_{1}{\\left(t \\right)} \\right)} + l_{1}^{2} m_{1} \\tau + 12 l_{1}^{2} m_{2} \\tau + 12 l_{c1}^{2} m_{1} \\tau + 6 m_{2} r^{2} \\tau\\right)}{m_{2} r^{2} \\left(l_{1}^{2} m_{1} + 12 l_{1}^{2} m_{2} + 12 l_{c1}^{2} m_{1}\\right)}$"
      ],
      "text/plain": [
       "<IPython.core.display.Math object>"
      ]
     },
     "metadata": {},
     "output_type": "display_data"
    },
    {
     "name": "stdout",
     "output_type": "stream",
     "text": [
      "-(12*g*l_1*m_2*cos(theta_1(t)) + 12*g*l_c1*m_1*cos(theta_1(t)) + 12*tau)/(l_1**2*m_1 + 12*l_1**2*m_2 + 12*l_c1**2*m_1)\n",
      "2*(6*g*l_1*m_2**2*r**2*cos(theta_1(t)) + 6*g*l_c1*m_1*m_2*r**2*cos(theta_1(t)) + l_1**2*m_1*tau + 12*l_1**2*m_2*tau + 12*l_c1**2*m_1*tau + 6*m_2*r**2*tau)/(m_2*r**2*(l_1**2*m_1 + 12*l_1**2*m_2 + 12*l_c1**2*m_1))\n"
     ]
    }
   ],
   "source": [
    "display(Math(f\"\\\\ddot{{\\\\theta_1}} = {sp.latex(sp.simplify(sol[theta_1dd]))}\"))\n",
    "display(Math(f\"\\\\ddot{{\\\\theta_2}} = {sp.latex(sp.simplify(sol[theta_2dd]))}\"))\n",
    "\n",
    "# f = sp.lambdify((theta_1, theta_1d, theta_2, theta_2d, tau), sol[theta_2dd])\n",
    "\n",
    "print(sp.simplify(sol[theta_1dd]))\n",
    "print(sp.simplify(sol[theta_2dd]))\n",
    "\n"
   ]
  },
  {
   "cell_type": "code",
   "execution_count": 35,
   "metadata": {},
   "outputs": [
    {
     "data": {
      "image/png": "[encoded data removed]",
      "text/latex": [
       "$\\displaystyle \\left[ \\frac{m_{2} r^{2} \\left(- 12 g l_{1} m_{2} \\cos{\\left(\\theta_{1} \\right)} - 12 g l_{c1} m_{1} \\cos{\\left(\\theta_{1} \\right)} + l_{1}^{2} m_{1} \\ddot{\\theta}_{2} + 12 l_{1}^{2} m_{2} \\ddot{\\theta}_{2} + 12 l_{c1}^{2} m_{1} \\ddot{\\theta}_{2}\\right)}{2 \\left(l_{1}^{2} m_{1} + 12 l_{1}^{2} m_{2} + 12 l_{c1}^{2} m_{1} + 6 m_{2} r^{2}\\right)}\\right]$"
      ],
      "text/plain": [
       "⎡    2 ⎛                                               2              2       \n",
       "⎢m₂⋅r ⋅⎝-12⋅g⋅l₁⋅m₂⋅cos(θ₁) - 12⋅g⋅l_c1⋅m₁⋅cos(θ₁) + l₁ ⋅m₁⋅θ₂̈ + 12⋅l₁ ⋅m₂⋅θ₂\n",
       "⎢─────────────────────────────────────────────────────────────────────────────\n",
       "⎢                          ⎛  2           2             2            2⎞       \n",
       "⎣                        2⋅⎝l₁ ⋅m₁ + 12⋅l₁ ⋅m₂ + 12⋅l_c1 ⋅m₁ + 6⋅m₂⋅r ⎠       \n",
       "\n",
       "         2      ⎞⎤\n",
       "̈ + 12⋅l_c1 ⋅m₁⋅θ₂̈⎠⎥\n",
       "─────────────────⎥\n",
       "                 ⎥\n",
       "                 ⎦"
      ]
     },
     "metadata": {},
     "output_type": "display_data"
    },
    {
     "data": {
      "image/png": "[encoded data removed]",
      "text/latex": [
       "$\\displaystyle \\frac{m_{2} r^{2} \\left(- 12 g l_{1} m_{2} \\cos{\\left(\\theta_{1} \\right)} - 12 g l_{c1} m_{1} \\cos{\\left(\\theta_{1} \\right)} + l_{1}^{2} m_{1} \\ddot{\\theta}_{2} + 12 l_{1}^{2} m_{2} \\ddot{\\theta}_{2} + 12 l_{c1}^{2} m_{1} \\ddot{\\theta}_{2}\\right)}{2 \\left(l_{1}^{2} m_{1} + 12 l_{1}^{2} m_{2} + 12 l_{c1}^{2} m_{1} + 6 m_{2} r^{2}\\right)}$"
      ],
      "text/plain": [
       "    2 ⎛                                               2              2        \n",
       "m₂⋅r ⋅⎝-12⋅g⋅l₁⋅m₂⋅cos(θ₁) - 12⋅g⋅l_c1⋅m₁⋅cos(θ₁) + l₁ ⋅m₁⋅θ₂̈ + 12⋅l₁ ⋅m₂⋅θ₂̈\n",
       "──────────────────────────────────────────────────────────────────────────────\n",
       "                          ⎛  2           2             2            2⎞        \n",
       "                        2⋅⎝l₁ ⋅m₁ + 12⋅l₁ ⋅m₂ + 12⋅l_c1 ⋅m₁ + 6⋅m₂⋅r ⎠        \n",
       "\n",
       "        2      ⎞\n",
       " + 12⋅l_c1 ⋅m₁⋅θ₂̈⎠\n",
       "────────────────\n",
       "                \n",
       "                "
      ]
     },
     "metadata": {},
     "output_type": "display_data"
    }
   ],
   "source": [
    "v = sp.solve(sp.Eq(theta_2dd, sol[theta_2dd]), tau)\n",
    "\n",
    "display(v)\n",
    "display(sp.simplify(v[0]))"
   ]
  }
 ],
 "metadata": {
  "kernelspec": {
   "display_name": "Python 3.10.6 ('me139')",
   "language": "python",
   "name": "python3"
  },
  "language_info": {
   "codemirror_mode": {
    "name": "ipython",
    "version": 3
   },
   "file_extension": ".py",
   "mimetype": "text/x-python",
   "name": "python",
   "nbconvert_exporter": "python",
   "pygments_lexer": "ipython3",
   "version": "3.10.6"
  },
  "orig_nbformat": 4,
  "vscode": {
   "interpreter": {
    "hash": "be19be14bdb63550c1fd9395eaedf3f6df4ec3b2db3166a51b0dc21d884ef482"
   }
  }
 },
 "nbformat": 4,
 "nbformat_minor": 2
}
