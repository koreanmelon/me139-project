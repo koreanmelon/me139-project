{
 "cells": [
  {
   "cell_type": "code",
   "execution_count": null,
   "metadata": {},
   "outputs": [],
   "source": [
    "import numpy as np\n",
    "import matplotlib.pyplot as plt\n",
    "import matplotlib.animation as anim\n",
    "from matplotlib.patches import Circle\n",
    "from scipy.integrate import odeint\n",
    "from IPython.display import HTML"
   ]
  },
  {
   "cell_type": "code",
   "execution_count": null,
   "metadata": {},
   "outputs": [],
   "source": [
    "# Pendulum rod length (m), masses (kg).\n",
    "L1 = 1\n",
    "Lc1 = 0.5\n",
    "m1, m2 = 0.5, 2\n",
    "r = 0.05\n",
    "\n",
    "# The gravitational acceleration (m.s-2).\n",
    "g = 9.81"
   ]
  },
  {
   "cell_type": "code",
   "execution_count": null,
   "metadata": {},
   "outputs": [],
   "source": [
    "def deriv(q, t):\n",
    "    theta_1, theta_1d, theta_2, theta_2d = q\n",
    "    c1 = np.cos(theta_1)\n",
    "\n",
    "    theta_1_dot = theta_1d\n",
    "    theta_1d_dot = (-12*g*L1*m2*c1 - 12*g*Lc1*m1*c1)/(L1**2*m1 + 12*L1**2*m2 + 12*Lc1**2*m1)\n",
    "    theta_2_dot = theta_2d\n",
    "    theta_2d_dot = (12*g*Lc1*m1*m2*r**2*c1) / (L1**2*m1*m2*r**2 + 12*(L1*m2*r)**2 + 12*Lc1**2*m1*m2*r**2)\n",
    " \n",
    "    return theta_1_dot, theta_1d_dot, theta_2_dot, theta_2d_dot\n",
    "\n",
    "def simulate(ts, theta_1, theta_1d, theta_2, theta_2d):\n",
    "    # Generalized coordinates\n",
    "    q0 = np.array([theta_1, theta_1d, theta_2, theta_2d])\n",
    "    q = odeint(deriv, q0, ts)\n",
    "\n",
    "    theta1, theta2 = q[:,0], q[:,2]\n",
    "    x1 = L1 * np.cos(theta1)\n",
    "    y1 = L1 * np.sin(theta1)\n",
    "    x2 = x1 + r * np.cos(theta2)\n",
    "    y2 = y1 + r * np.sin(theta2)\n",
    "    return x1, y1, x2, y2"
   ]
  },
  {
   "cell_type": "code",
   "execution_count": null,
   "metadata": {},
   "outputs": [],
   "source": [
    "# Define time\n",
    "tmax, dt = 1000, 0.01\n",
    "t = np.arange(0, tmax+dt, dt)\n",
    "x1, y1, x2, y2 = simulate(t, 0, 0, 0, 0)"
   ]
  },
  {
   "cell_type": "code",
   "execution_count": null,
   "metadata": {},
   "outputs": [],
   "source": [
    "def animate(i):\n",
    "    # Plot a frame of the pendulum configuration for timestep i.\n",
    "    ax.clear()\n",
    "\n",
    "    # The pendulum rod.\n",
    "    ax.plot([0, x1[i]], [0, y1[i]], lw=2, color='k')\n",
    "\n",
    "    # Circles representing the anchor point and the reaction wheel\n",
    "    c0 = Circle((0, 0), r/2, fc='k', zorder=10)\n",
    "    c1 = Circle((x1[i], y1[i]), r, fc='b', ec='b', zorder=10)\n",
    "    ax.add_patch(c0)\n",
    "    ax.add_patch(c1)\n",
    "\n",
    "    # Line showing the angle of the reaction wheel\n",
    "    ax.plot([x1[i], x2[i]], [y1[i], y2[i]], lw=2, color='red', zorder=11)\n",
    "\n",
    "    # Centre the image on the fixed anchor point, and ensure the axes are equal\n",
    "    ax.set_xlim(-L1-r, L1+r)\n",
    "    ax.set_ylim(-L1-r, L1+r)\n",
    "    ax.set_aspect('equal', adjustable='box')\n",
    "\n",
    "fig = plt.figure(figsize=(8.3333, 6.25), dpi=72)\n",
    "ax = fig.add_subplot(111)\n",
    "ani = anim.FuncAnimation(fig, animate, frames=tmax, interval=dt * 1000)\n",
    "HTML(ani.to_jshtml())"
   ]
  },
  {
   "cell_type": "code",
   "execution_count": null,
   "metadata": {},
   "outputs": [],
   "source": []
  }
 ],
 "metadata": {
  "kernelspec": {
   "display_name": "Python 3.10.4 ('me139')",
   "language": "python",
   "name": "python3"
  },
  "language_info": {
   "codemirror_mode": {
    "name": "ipython",
    "version": 3
   },
   "file_extension": ".py",
   "mimetype": "text/x-python",
   "name": "python",
   "nbconvert_exporter": "python",
   "pygments_lexer": "ipython3",
   "version": "3.10.4"
  },
  "orig_nbformat": 4,
  "vscode": {
   "interpreter": {
    "hash": "b0202123a5b8a26bebd5cbe4ca3f3cda28476a386251123ac89c9cacd5b2b628"
   }
  }
 },
 "nbformat": 4,
 "nbformat_minor": 2
}
