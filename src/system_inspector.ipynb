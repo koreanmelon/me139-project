{
 "cells": [
  {
   "cell_type": "code",
   "execution_count": 1,
   "metadata": {},
   "outputs": [
    {
     "data": {
      "text/latex": [
       "$\\displaystyle b[] = \\left\\{ 1 : 0, \\  2 : 0.5\\right\\}$"
      ],
      "text/plain": [
       "<IPython.core.display.Math object>"
      ]
     },
     "metadata": {},
     "output_type": "display_data"
    },
    {
     "data": {
      "text/latex": [
       "$\\displaystyle T = \\left\\{ \\mathtt{\\text{1->0}} : \\left[\\begin{matrix}\\cos{\\left(\\theta_{1} \\right)} & - \\sin{\\left(\\theta_{1} \\right)} & 0 & 0\\\\\\sin{\\left(\\theta_{1} \\right)} & \\cos{\\left(\\theta_{1} \\right)} & 0 & 0\\\\0 & 0 & 1 & 0\\\\0 & 0 & 0 & 1\\end{matrix}\\right], \\  \\mathtt{\\text{2->0}} : \\left[\\begin{matrix}\\cos{\\left(\\theta_{1} + \\theta_{2} \\right)} & - \\sin{\\left(\\theta_{1} + \\theta_{2} \\right)} & 0 & 0.5 \\cos{\\left(\\theta_{1} \\right)}\\\\\\sin{\\left(\\theta_{1} + \\theta_{2} \\right)} & \\cos{\\left(\\theta_{1} + \\theta_{2} \\right)} & 0 & 0.5 \\sin{\\left(\\theta_{1} \\right)}\\\\0 & 0 & 1 & 0\\\\0 & 0 & 0 & 1\\end{matrix}\\right], \\  \\mathtt{\\text{2->1}} : \\left[\\begin{matrix}\\cos{\\left(\\theta_{2} \\right)} & - \\sin{\\left(\\theta_{2} \\right)} & 0 & 0.5\\\\\\sin{\\left(\\theta_{2} \\right)} & \\cos{\\left(\\theta_{2} \\right)} & 0 & 0\\\\0 & 0 & 1 & 0\\\\0 & 0 & 0 & 1\\end{matrix}\\right]\\right\\}$"
      ],
      "text/plain": [
       "<IPython.core.display.Math object>"
      ]
     },
     "metadata": {},
     "output_type": "display_data"
    },
    {
     "data": {
      "text/latex": [
       "$\\displaystyle R = \\left\\{ \\mathtt{\\text{1->0}} : \\left[\\begin{matrix}\\cos{\\left(\\theta_{1} \\right)} & - \\sin{\\left(\\theta_{1} \\right)} & 0\\\\\\sin{\\left(\\theta_{1} \\right)} & \\cos{\\left(\\theta_{1} \\right)} & 0\\\\0 & 0 & 1\\end{matrix}\\right], \\  \\mathtt{\\text{2->0}} : \\left[\\begin{matrix}\\cos{\\left(\\theta_{1} + \\theta_{2} \\right)} & - \\sin{\\left(\\theta_{1} + \\theta_{2} \\right)} & 0\\\\\\sin{\\left(\\theta_{1} + \\theta_{2} \\right)} & \\cos{\\left(\\theta_{1} + \\theta_{2} \\right)} & 0\\\\0 & 0 & 1\\end{matrix}\\right], \\  \\mathtt{\\text{2->1}} : \\left[\\begin{matrix}\\cos{\\left(\\theta_{2} \\right)} & - \\sin{\\left(\\theta_{2} \\right)} & 0\\\\\\sin{\\left(\\theta_{2} \\right)} & \\cos{\\left(\\theta_{2} \\right)} & 0\\\\0 & 0 & 1\\end{matrix}\\right]\\right\\}$"
      ],
      "text/plain": [
       "<IPython.core.display.Math object>"
      ]
     },
     "metadata": {},
     "output_type": "display_data"
    },
    {
     "data": {
      "text/latex": [
       "$\\displaystyle D = \\left\\{ \\mathtt{\\text{1->0}} : \\left[\\begin{matrix}0\\\\0\\\\0\\end{matrix}\\right], \\  \\mathtt{\\text{2->0}} : \\left[\\begin{matrix}0.5 \\cos{\\left(\\theta_{1} \\right)}\\\\0.5 \\sin{\\left(\\theta_{1} \\right)}\\\\0\\end{matrix}\\right], \\  \\mathtt{\\text{2->1}} : \\left[\\begin{matrix}0.5\\\\0\\\\0\\end{matrix}\\right], \\  \\mathtt{\\text{c1->0}} : \\left[\\begin{matrix}0.25 \\cos{\\left(\\theta_{1} \\right)}\\\\0.25 \\sin{\\left(\\theta_{1} \\right)}\\\\0\\end{matrix}\\right], \\  \\mathtt{\\text{c1->1}} : \\left[\\begin{matrix}0.25\\\\0\\\\0\\end{matrix}\\right], \\  \\mathtt{\\text{c2->0}} : \\left[\\begin{matrix}0.5 \\cos{\\left(\\theta_{1} \\right)}\\\\0.5 \\sin{\\left(\\theta_{1} \\right)}\\\\0\\end{matrix}\\right], \\  \\mathtt{\\text{c2->1}} : \\left[\\begin{matrix}0.5\\\\0\\\\0\\end{matrix}\\right], \\  \\mathtt{\\text{c2->2}} : \\left[\\begin{matrix}0\\\\0\\\\0\\end{matrix}\\right]\\right\\}$"
      ],
      "text/plain": [
       "<IPython.core.display.Math object>"
      ]
     },
     "metadata": {},
     "output_type": "display_data"
    },
    {
     "data": {
      "text/latex": [
       "$\\displaystyle J_v = \\left\\{ \\mathtt{\\text{1}} : \\left[\\begin{matrix}- 0.25 \\sin{\\left(\\theta_{1} \\right)} & 0\\\\0.25 \\cos{\\left(\\theta_{1} \\right)} & 0\\\\0 & 0\\end{matrix}\\right], \\  \\mathtt{\\text{2}} : \\left[\\begin{matrix}- 0.5 \\sin{\\left(\\theta_{1} \\right)} & 0\\\\0.5 \\cos{\\left(\\theta_{1} \\right)} & 0\\\\0 & 0\\end{matrix}\\right]\\right\\}$"
      ],
      "text/plain": [
       "<IPython.core.display.Math object>"
      ]
     },
     "metadata": {},
     "output_type": "display_data"
    },
    {
     "data": {
      "text/latex": [
       "$\\displaystyle J_w = \\left\\{ \\mathtt{\\text{1}} : \\left[\\begin{matrix}0 & 0\\\\0 & 0\\\\1 & 0\\end{matrix}\\right], \\  \\mathtt{\\text{2}} : \\left[\\begin{matrix}0 & 0\\\\0 & 0\\\\1 & 1\\end{matrix}\\right]\\right\\}$"
      ],
      "text/plain": [
       "<IPython.core.display.Math object>"
      ]
     },
     "metadata": {},
     "output_type": "display_data"
    },
    {
     "data": {
      "text/latex": [
       "$\\displaystyle M = \\left[\\begin{matrix}1.35833333333333 & 0.025\\\\0.025 & 0.025\\end{matrix}\\right]$"
      ],
      "text/plain": [
       "<IPython.core.display.Math object>"
      ]
     },
     "metadata": {},
     "output_type": "display_data"
    }
   ],
   "source": [
    "import sympy as sp\n",
    "from systems.reaction_wheel import RWParams, ReactionWheel\n",
    "from IPython.display import display, Math\n",
    "from sympy.physics.mechanics import vlatex\n",
    "\n",
    "system = ReactionWheel(\n",
    "    RWParams(\n",
    "        l_1=0.5,\n",
    "        l_c1=0.25,\n",
    "        m_1=1,\n",
    "        m_2=5,\n",
    "        r=0.1\n",
    "    )\n",
    ")\n",
    "\n",
    "display(Math(f\"b[] = {vlatex(system.b)}\"))\n",
    "\n",
    "display(Math(f\"T = {vlatex(system.T)}\"))\n",
    "display(Math(f\"R = {vlatex(system.R)}\"))\n",
    "display(Math(f\"D = {vlatex(system.D)}\"))\n",
    "\n",
    "display(Math(f\"J_v = {vlatex(system.J_v)}\"))\n",
    "display(Math(f\"J_w = {vlatex(system.J_w)}\"))\n",
    "display(Math(f\"M = {vlatex(system.M)}\"))\n"
   ]
  }
 ],
 "metadata": {
  "kernelspec": {
   "display_name": "Python 3.10.6 ('me139')",
   "language": "python",
   "name": "python3"
  },
  "language_info": {
   "codemirror_mode": {
    "name": "ipython",
    "version": 3
   },
   "file_extension": ".py",
   "mimetype": "text/x-python",
   "name": "python",
   "nbconvert_exporter": "python",
   "pygments_lexer": "ipython3",
   "version": "3.10.6"
  },
  "orig_nbformat": 4,
  "vscode": {
   "interpreter": {
    "hash": "be19be14bdb63550c1fd9395eaedf3f6df4ec3b2db3166a51b0dc21d884ef482"
   }
  }
 },
 "nbformat": 4,
 "nbformat_minor": 2
}
