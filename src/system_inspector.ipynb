{
 "cells": [
  {
   "cell_type": "code",
   "execution_count": 1,
   "metadata": {},
   "outputs": [
    {
     "data": {
      "text/latex": [
       "$\\displaystyle P: 9.81 \\sin{\\left(\\theta_{1}{\\left(t \\right)} + \\theta_{2}{\\left(t \\right)} \\right)} + 19.62 \\sin{\\left(\\theta_{1}{\\left(t \\right)} \\right)}$"
      ],
      "text/plain": [
       "<IPython.core.display.Math object>"
      ]
     },
     "metadata": {},
     "output_type": "display_data"
    }
   ],
   "source": [
    "import sympy as sp\n",
    "from systems.double_pendulum import DPParams, DoublePendulum\n",
    "from IPython.display import display, Math\n",
    "\n",
    "dp = DoublePendulum(DPParams())\n",
    "\n",
    "display(Math(f\"P: {sp.latex(dp.P)}\"))\n"
   ]
  }
 ],
 "metadata": {
  "kernelspec": {
   "display_name": "Python 3.10.6 ('me139')",
   "language": "python",
   "name": "python3"
  },
  "language_info": {
   "codemirror_mode": {
    "name": "ipython",
    "version": 3
   },
   "file_extension": ".py",
   "mimetype": "text/x-python",
   "name": "python",
   "nbconvert_exporter": "python",
   "pygments_lexer": "ipython3",
   "version": "3.10.6"
  },
  "orig_nbformat": 4,
  "vscode": {
   "interpreter": {
    "hash": "be19be14bdb63550c1fd9395eaedf3f6df4ec3b2db3166a51b0dc21d884ef482"
   }
  }
 },
 "nbformat": 4,
 "nbformat_minor": 2
}
