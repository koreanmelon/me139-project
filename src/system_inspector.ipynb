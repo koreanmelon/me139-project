{
  "cells": [
    {
      "cell_type": "code",
      "execution_count": 1,
      "metadata": {},
      "outputs": [],
      "source": [
        "import sympy as sp\n",
        "from systems.reaction_wheel import RWParams, ReactionWheel\n",
        "from systems.three_link_reaction_wheel import TLRW, TLRWParams\n",
        "from IPython.display import display, Math\n",
        "from sympy.physics.mechanics import vlatex\n"
      ]
    },
    {
      "cell_type": "code",
      "execution_count": 3,
      "metadata": {},
      "outputs": [
        {
          "name": "stdout",
          "output_type": "stream",
          "text": [
            "Time to compute T: 4.007457622999937\n",
            "Time to compute R: 0.0003554420000000391\n",
            "Time to compute D: 1.502360390999911\n",
            "Time to compute J: 4.960953494000023\n",
            "Time to compute M: 11.48065896099979\n",
            "Time to compute V: 2.082353156999943\n",
            "Time to compute G: 0.7604352489997837\n",
            "Time to compute torque: 8.119111887000145\n"
          ]
        }
      ],
      "source": [
        "# system_1 = ReactionWheel(RWParams())\n",
        "system_2 = TLRW(\n",
        "    TLRWParams(\n",
        "    )\n",
        ")\n"
      ]
    },
    {
      "cell_type": "code",
      "execution_count": null,
      "metadata": {},
      "outputs": [],
      "source": [
        "display(Math(f\"b[] = {vlatex(system_2.b)}\"))\n",
        "\n",
        "display(Math(f\"T = {vlatex(system_2.T)}\"))\n",
        "display(Math(f\"R = {vlatex(system_2.R)}\"))\n",
        "display(Math(f\"D = {vlatex(system_2.D)}\"))\n",
        "\n",
        "display(Math(f\"J_v = {vlatex(system_2.J_v)}\"))\n",
        "\n",
        "display(Math(f\"G = {vlatex(system_2.G)}\"))\n",
        "\n",
        "# display(Math(f\"\\\\tau_{{sys1}} = {vlatex(sp.simplify(system_1.torque))}\"))\n",
        "display(Math(f\"\\\\tau_{{sys2}} = {vlatex(sp.simplify(system_2.torque))}\"))\n",
        "\n",
        "display(Math(f\"sol = {vlatex(system_2.sol)}\"))\n"
      ]
    }
  ],
  "metadata": {
    "kernelspec": {
      "display_name": "Python 3.10.6 ('me139')",
      "language": "python",
      "name": "python3"
    },
    "language_info": {
      "codemirror_mode": {
        "name": "ipython",
        "version": 3
      },
      "file_extension": ".py",
      "mimetype": "text/x-python",
      "name": "python",
      "nbconvert_exporter": "python",
      "pygments_lexer": "ipython3",
      "version": "3.10.6"
    },
    "orig_nbformat": 4,
    "vscode": {
      "interpreter": {
        "hash": "be19be14bdb63550c1fd9395eaedf3f6df4ec3b2db3166a51b0dc21d884ef482"
      }
    }
  },
  "nbformat": 4,
  "nbformat_minor": 2
}
