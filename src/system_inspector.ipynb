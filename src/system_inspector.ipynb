{
 "cells": [
  {
   "cell_type": "code",
   "execution_count": 1,
   "metadata": {},
   "outputs": [
    {
     "data": {
      "text/latex": [
       "$\\displaystyle P: \\left\\{ \\frac{d^{2}}{d t^{2}} \\theta_{1}{\\left(t \\right)} : - 0.48 \\tau - 9.4176 \\cos{\\left(\\theta_{1}{\\left(t \\right)} \\right)}, \\  \\frac{d^{2}}{d t^{2}} \\theta_{2}{\\left(t \\right)} : 1.48 \\tau + 9.4176 \\cos{\\left(\\theta_{1}{\\left(t \\right)} \\right)}\\right\\}$"
      ],
      "text/plain": [
       "<IPython.core.display.Math object>"
      ]
     },
     "metadata": {},
     "output_type": "display_data"
    }
   ],
   "source": [
    "import sympy as sp\n",
    "from systems.reaction_wheel import RWParams, ReactionWheel\n",
    "from IPython.display import display, Math\n",
    "\n",
    "rw = ReactionWheel(RWParams())\n",
    "\n",
    "display(Math(f\"P: {sp.latex(rw.sol)}\"))\n"
   ]
  }
 ],
 "metadata": {
  "kernelspec": {
   "display_name": "Python 3.10.6 ('me139')",
   "language": "python",
   "name": "python3"
  },
  "language_info": {
   "codemirror_mode": {
    "name": "ipython",
    "version": 3
   },
   "file_extension": ".py",
   "mimetype": "text/x-python",
   "name": "python",
   "nbconvert_exporter": "python",
   "pygments_lexer": "ipython3",
   "version": "3.10.6"
  },
  "orig_nbformat": 4,
  "vscode": {
   "interpreter": {
    "hash": "be19be14bdb63550c1fd9395eaedf3f6df4ec3b2db3166a51b0dc21d884ef482"
   }
  }
 },
 "nbformat": 4,
 "nbformat_minor": 2
}
