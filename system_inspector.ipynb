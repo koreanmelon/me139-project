{
  "cells": [
    {
      "cell_type": "code",
      "execution_count": null,
      "metadata": {},
      "outputs": [],
      "source": [
        "import numpy as np\n",
        "import matplotlib.pyplot as plt\n",
        "import sympy as sp\n",
        "from sympy.physics.mechanics import vlatex\n",
        "from scipy.integrate import solve_ivp\n",
        "from IPython.display import display, Math\n",
        "\n",
        "from src.systems.reaction_wheel import ReactionWheel, RWParams\n",
        "from src.systems.system.system import RoboticSystem as RS\n",
        "from src.metrics.metrics import Metrics, MetricsConfig\n"
      ]
    },
    {
      "cell_type": "code",
      "execution_count": null,
      "metadata": {},
      "outputs": [],
      "source": [
        "system = ReactionWheel(\n",
        "    RWParams(\n",
        "        l_1=0.25,\n",
        "        l_c1=0.125,\n",
        "        m_1=1,\n",
        "        m_2=0.5,\n",
        "        r=0.076,\n",
        "        metrics=Metrics(MetricsConfig(progressive=False))\n",
        "    )\n",
        ")\n",
        "\n",
        "duration = 10\n",
        "fps: int = 60                   # (frames/sec)\n",
        "frames: int = fps * duration    # rendered frames (frames)\n",
        "dt: float = 1 / fps             # timestep (sec)\n",
        "\n",
        "t_range = np.linspace(0, duration, frames, endpoint=False)\n",
        "\n",
        "Q = solve_ivp(\n",
        "    fun=system.deriv,\n",
        "    t_span=(0, duration),\n",
        "    y0=np.array([np.pi/2 + np.pi/36, 0, 0, 0]),\n",
        "    method=\"DOP853\",\n",
        "    t_eval=t_range\n",
        ").y\n",
        "\n",
        "plt.title(\"$\\\\theta_1$ vs. Time\")\n",
        "plt.ylabel(\"$\\\\theta_1$\")\n",
        "plt.plot(t_range, Q[0])\n",
        "plt.show()\n"
      ]
    },
    {
      "cell_type": "code",
      "execution_count": null,
      "metadata": {},
      "outputs": [],
      "source": [
        "plt.title(\"Torque vs. $\\\\omega$\")\n",
        "plt.xlabel(\"$\\\\omega$ (RPM)\")\n",
        "plt.ylabel(\"Torque (kg cm)\")\n",
        "plt.plot(\n",
        "    [system.out_vals[k][1] * (30 / np.pi) for k in sorted(system.out_vals.keys())],\n",
        "    [(system.out_vals[k][0] / 9.81) * 100 for k in sorted(system.out_vals.keys())],\n",
        "    label=\"Torque\"\n",
        ")\n",
        "\n",
        "plt.plot(\n",
        "    np.linspace(0, 1600, 1600),\n",
        "    np.linspace(3.5, 0, 1600),\n",
        "    label=\"Fat Motor\"\n",
        ")\n",
        "\n",
        "plt.plot(\n",
        "    np.linspace(0, 1600, 1600),\n",
        "    np.linspace(3, 0, 1600),\n",
        "    label=\"Not Fat Motor\"\n",
        ")\n",
        "plt.legend()\n",
        "plt.show()\n"
      ]
    }
  ],
  "metadata": {
    "kernelspec": {
      "display_name": "Python 3.10.6 ('me139')",
      "language": "python",
      "name": "python3"
    },
    "language_info": {
      "codemirror_mode": {
        "name": "ipython",
        "version": 3
      },
      "file_extension": ".py",
      "mimetype": "text/x-python",
      "name": "python",
      "nbconvert_exporter": "python",
      "pygments_lexer": "ipython3",
      "version": "3.10.6"
    },
    "orig_nbformat": 4,
    "vscode": {
      "interpreter": {
        "hash": "be19be14bdb63550c1fd9395eaedf3f6df4ec3b2db3166a51b0dc21d884ef482"
      }
    }
  },
  "nbformat": 4,
  "nbformat_minor": 2
}
